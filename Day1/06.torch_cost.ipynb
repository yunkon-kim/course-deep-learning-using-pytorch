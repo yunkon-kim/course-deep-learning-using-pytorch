{
 "cells": [
  {
   "cell_type": "code",
   "execution_count": 18,
   "id": "078959c0",
   "metadata": {},
   "outputs": [],
   "source": [
    "import matplotlib.pyplot as plt\n",
    "import numpy as np\n",
    "import torch\n",
    "import torch.nn.functional as F"
   ]
  },
  {
   "cell_type": "code",
   "execution_count": 3,
   "id": "e5580fca",
   "metadata": {},
   "outputs": [],
   "source": [
    "x_data = torch.FloatTensor([1,2,3])\n",
    "y_data = torch.FloatTensor([1,2,3])"
   ]
  },
  {
   "cell_type": "code",
   "execution_count": 9,
   "id": "7664532c",
   "metadata": {},
   "outputs": [],
   "source": [
    "def cost(x, y, w):\n",
    "    hx = w*x # hx = torch.add(w, x)\n",
    "    s = torch.sum((hx-y)**2) # torch.square((hx.sub(y))\n",
    "    return s/len(x)"
   ]
  },
  {
   "cell_type": "code",
   "execution_count": 23,
   "id": "e3c5c97b",
   "metadata": {},
   "outputs": [],
   "source": [
    "def cost1(x, y, w):\n",
    "    hx = w*x # hx = torch.add(w, x)\n",
    "    return F.mse_loss(hx,y)"
   ]
  },
  {
   "cell_type": "code",
   "execution_count": 32,
   "id": "214ec9c6",
   "metadata": {},
   "outputs": [],
   "source": [
    "def cost2(x, y, w):\n",
    "    hx = w*x # hx = torch.add(w, x)\n",
    "    loss_fn = torch.nn.MSELoss()\n",
    "    return loss_fn(hx, y)"
   ]
  },
  {
   "cell_type": "code",
   "execution_count": 33,
   "id": "8f7c4685",
   "metadata": {},
   "outputs": [],
   "source": [
    "def gradient(x, y, w):\n",
    "    hx = w * x\n",
    "    s = torch.sum((hx-y)*2*x)\n",
    "    return s/len(x)"
   ]
  },
  {
   "cell_type": "code",
   "execution_count": 34,
   "id": "9ec961a8",
   "metadata": {},
   "outputs": [
    {
     "name": "stdout",
     "output_type": "stream",
     "text": [
      "tensor(18.6667)\n"
     ]
    }
   ],
   "source": [
    "print(cost1(x_data,y_data, -1))"
   ]
  },
  {
   "cell_type": "code",
   "execution_count": 35,
   "id": "07707466",
   "metadata": {},
   "outputs": [
    {
     "name": "stdout",
     "output_type": "stream",
     "text": [
      "tensor(18.6667)\n"
     ]
    }
   ],
   "source": [
    "print(cost2(x_data,y_data, -1))"
   ]
  },
  {
   "cell_type": "code",
   "execution_count": 11,
   "id": "c2a62bd5",
   "metadata": {},
   "outputs": [
    {
     "name": "stdout",
     "output_type": "stream",
     "text": [
      "tensor(18.6667)\n",
      "tensor(4.6667)\n",
      "tensor(0.)\n",
      "tensor(4.6667)\n"
     ]
    }
   ],
   "source": [
    "print(cost(x_data,y_data, -1))\n",
    "print(cost(x_data,y_data, 0))\n",
    "print(cost(x_data,y_data, 1))\n",
    "print(cost(x_data,y_data, 2))"
   ]
  },
  {
   "cell_type": "code",
   "execution_count": 12,
   "id": "1d50ce98",
   "metadata": {},
   "outputs": [
    {
     "name": "stdout",
     "output_type": "stream",
     "text": [
      "epoch: 0 cost= tensor(378.) w= 10\n",
      "epoch: 1 cost= tensor(1.6800) w= tensor(1.6000)\n",
      "epoch: 2 cost= tensor(0.0075) w= tensor(1.0400)\n",
      "epoch: 3 cost= tensor(3.3186e-05) w= tensor(1.0027)\n",
      "epoch: 4 cost= tensor(1.4739e-07) w= tensor(1.0002)\n",
      "epoch: 5 cost= tensor(6.6317e-10) w= tensor(1.0000)\n",
      "epoch: 6 cost= tensor(3.0553e-12) w= tensor(1.0000)\n",
      "epoch: 7 cost= tensor(9.9476e-14) w= tensor(1.0000)\n",
      "epoch: 8 cost= tensor(0.) w= tensor(1.)\n",
      "epoch: 9 cost= tensor(0.) w= tensor(1.)\n",
      "epoch: 10 cost= tensor(0.) w= tensor(1.)\n",
      "epoch: 11 cost= tensor(0.) w= tensor(1.)\n",
      "epoch: 12 cost= tensor(0.) w= tensor(1.)\n",
      "epoch: 13 cost= tensor(0.) w= tensor(1.)\n",
      "epoch: 14 cost= tensor(0.) w= tensor(1.)\n",
      "epoch: 15 cost= tensor(0.) w= tensor(1.)\n",
      "epoch: 16 cost= tensor(0.) w= tensor(1.)\n",
      "epoch: 17 cost= tensor(0.) w= tensor(1.)\n",
      "epoch: 18 cost= tensor(0.) w= tensor(1.)\n",
      "epoch: 19 cost= tensor(0.) w= tensor(1.)\n",
      "epoch: 20 cost= tensor(0.) w= tensor(1.)\n",
      "epoch: 21 cost= tensor(0.) w= tensor(1.)\n",
      "epoch: 22 cost= tensor(0.) w= tensor(1.)\n",
      "epoch: 23 cost= tensor(0.) w= tensor(1.)\n",
      "epoch: 24 cost= tensor(0.) w= tensor(1.)\n",
      "epoch: 25 cost= tensor(0.) w= tensor(1.)\n",
      "epoch: 26 cost= tensor(0.) w= tensor(1.)\n",
      "epoch: 27 cost= tensor(0.) w= tensor(1.)\n",
      "epoch: 28 cost= tensor(0.) w= tensor(1.)\n",
      "epoch: 29 cost= tensor(0.) w= tensor(1.)\n",
      "epoch: 30 cost= tensor(0.) w= tensor(1.)\n",
      "epoch: 31 cost= tensor(0.) w= tensor(1.)\n",
      "epoch: 32 cost= tensor(0.) w= tensor(1.)\n",
      "epoch: 33 cost= tensor(0.) w= tensor(1.)\n",
      "epoch: 34 cost= tensor(0.) w= tensor(1.)\n",
      "epoch: 35 cost= tensor(0.) w= tensor(1.)\n",
      "epoch: 36 cost= tensor(0.) w= tensor(1.)\n",
      "epoch: 37 cost= tensor(0.) w= tensor(1.)\n",
      "epoch: 38 cost= tensor(0.) w= tensor(1.)\n",
      "epoch: 39 cost= tensor(0.) w= tensor(1.)\n",
      "epoch: 40 cost= tensor(0.) w= tensor(1.)\n",
      "epoch: 41 cost= tensor(0.) w= tensor(1.)\n",
      "epoch: 42 cost= tensor(0.) w= tensor(1.)\n",
      "epoch: 43 cost= tensor(0.) w= tensor(1.)\n",
      "epoch: 44 cost= tensor(0.) w= tensor(1.)\n",
      "epoch: 45 cost= tensor(0.) w= tensor(1.)\n",
      "epoch: 46 cost= tensor(0.) w= tensor(1.)\n",
      "epoch: 47 cost= tensor(0.) w= tensor(1.)\n",
      "epoch: 48 cost= tensor(0.) w= tensor(1.)\n",
      "epoch: 49 cost= tensor(0.) w= tensor(1.)\n",
      "epoch: 50 cost= tensor(0.) w= tensor(1.)\n",
      "epoch: 51 cost= tensor(0.) w= tensor(1.)\n",
      "epoch: 52 cost= tensor(0.) w= tensor(1.)\n",
      "epoch: 53 cost= tensor(0.) w= tensor(1.)\n",
      "epoch: 54 cost= tensor(0.) w= tensor(1.)\n",
      "epoch: 55 cost= tensor(0.) w= tensor(1.)\n",
      "epoch: 56 cost= tensor(0.) w= tensor(1.)\n",
      "epoch: 57 cost= tensor(0.) w= tensor(1.)\n",
      "epoch: 58 cost= tensor(0.) w= tensor(1.)\n",
      "epoch: 59 cost= tensor(0.) w= tensor(1.)\n",
      "epoch: 60 cost= tensor(0.) w= tensor(1.)\n",
      "epoch: 61 cost= tensor(0.) w= tensor(1.)\n",
      "epoch: 62 cost= tensor(0.) w= tensor(1.)\n",
      "epoch: 63 cost= tensor(0.) w= tensor(1.)\n",
      "epoch: 64 cost= tensor(0.) w= tensor(1.)\n",
      "epoch: 65 cost= tensor(0.) w= tensor(1.)\n",
      "epoch: 66 cost= tensor(0.) w= tensor(1.)\n",
      "epoch: 67 cost= tensor(0.) w= tensor(1.)\n",
      "epoch: 68 cost= tensor(0.) w= tensor(1.)\n",
      "epoch: 69 cost= tensor(0.) w= tensor(1.)\n",
      "epoch: 70 cost= tensor(0.) w= tensor(1.)\n",
      "epoch: 71 cost= tensor(0.) w= tensor(1.)\n",
      "epoch: 72 cost= tensor(0.) w= tensor(1.)\n",
      "epoch: 73 cost= tensor(0.) w= tensor(1.)\n",
      "epoch: 74 cost= tensor(0.) w= tensor(1.)\n",
      "epoch: 75 cost= tensor(0.) w= tensor(1.)\n",
      "epoch: 76 cost= tensor(0.) w= tensor(1.)\n",
      "epoch: 77 cost= tensor(0.) w= tensor(1.)\n",
      "epoch: 78 cost= tensor(0.) w= tensor(1.)\n",
      "epoch: 79 cost= tensor(0.) w= tensor(1.)\n",
      "epoch: 80 cost= tensor(0.) w= tensor(1.)\n",
      "epoch: 81 cost= tensor(0.) w= tensor(1.)\n",
      "epoch: 82 cost= tensor(0.) w= tensor(1.)\n",
      "epoch: 83 cost= tensor(0.) w= tensor(1.)\n",
      "epoch: 84 cost= tensor(0.) w= tensor(1.)\n",
      "epoch: 85 cost= tensor(0.) w= tensor(1.)\n",
      "epoch: 86 cost= tensor(0.) w= tensor(1.)\n",
      "epoch: 87 cost= tensor(0.) w= tensor(1.)\n",
      "epoch: 88 cost= tensor(0.) w= tensor(1.)\n",
      "epoch: 89 cost= tensor(0.) w= tensor(1.)\n",
      "epoch: 90 cost= tensor(0.) w= tensor(1.)\n",
      "epoch: 91 cost= tensor(0.) w= tensor(1.)\n",
      "epoch: 92 cost= tensor(0.) w= tensor(1.)\n",
      "epoch: 93 cost= tensor(0.) w= tensor(1.)\n",
      "epoch: 94 cost= tensor(0.) w= tensor(1.)\n",
      "epoch: 95 cost= tensor(0.) w= tensor(1.)\n",
      "epoch: 96 cost= tensor(0.) w= tensor(1.)\n",
      "epoch: 97 cost= tensor(0.) w= tensor(1.)\n",
      "epoch: 98 cost= tensor(0.) w= tensor(1.)\n",
      "epoch: 99 cost= tensor(0.) w= tensor(1.)\n",
      "epoch: 100 cost= tensor(0.) w= tensor(1.)\n",
      "epoch: 101 cost= tensor(0.) w= tensor(1.)\n",
      "epoch: 102 cost= tensor(0.) w= tensor(1.)\n",
      "epoch: 103 cost= tensor(0.) w= tensor(1.)\n",
      "epoch: 104 cost= tensor(0.) w= tensor(1.)\n",
      "epoch: 105 cost= tensor(0.) w= tensor(1.)\n",
      "epoch: 106 cost= tensor(0.) w= tensor(1.)\n",
      "epoch: 107 cost= tensor(0.) w= tensor(1.)\n",
      "epoch: 108 cost= tensor(0.) w= tensor(1.)\n",
      "epoch: 109 cost= tensor(0.) w= tensor(1.)\n",
      "epoch: 110 cost= tensor(0.) w= tensor(1.)\n",
      "epoch: 111 cost= tensor(0.) w= tensor(1.)\n",
      "epoch: 112 cost= tensor(0.) w= tensor(1.)\n",
      "epoch: 113 cost= tensor(0.) w= tensor(1.)\n",
      "epoch: 114 cost= tensor(0.) w= tensor(1.)\n",
      "epoch: 115 cost= tensor(0.) w= tensor(1.)\n",
      "epoch: 116 cost= tensor(0.) w= tensor(1.)\n",
      "epoch: 117 cost= tensor(0.) w= tensor(1.)\n",
      "epoch: 118 cost= tensor(0.) w= tensor(1.)\n",
      "epoch: 119 cost= tensor(0.) w= tensor(1.)\n",
      "epoch: 120 cost= tensor(0.) w= tensor(1.)\n",
      "epoch: 121 cost= tensor(0.) w= tensor(1.)\n",
      "epoch: 122 cost= tensor(0.) w= tensor(1.)\n",
      "epoch: 123 cost= tensor(0.) w= tensor(1.)\n",
      "epoch: 124 cost= tensor(0.) w= tensor(1.)\n",
      "epoch: 125 cost= tensor(0.) w= tensor(1.)\n",
      "epoch: 126 cost= tensor(0.) w= tensor(1.)\n",
      "epoch: 127 cost= tensor(0.) w= tensor(1.)\n",
      "epoch: 128 cost= tensor(0.) w= tensor(1.)\n",
      "epoch: 129 cost= tensor(0.) w= tensor(1.)\n",
      "epoch: 130 cost= tensor(0.) w= tensor(1.)\n",
      "epoch: 131 cost= tensor(0.) w= tensor(1.)\n",
      "epoch: 132 cost= tensor(0.) w= tensor(1.)\n",
      "epoch: 133 cost= tensor(0.) w= tensor(1.)\n",
      "epoch: 134 cost= tensor(0.) w= tensor(1.)\n",
      "epoch: 135 cost= tensor(0.) w= tensor(1.)\n",
      "epoch: 136 cost= tensor(0.) w= tensor(1.)\n",
      "epoch: 137 cost= tensor(0.) w= tensor(1.)\n",
      "epoch: 138 cost= tensor(0.) w= tensor(1.)\n",
      "epoch: 139 cost= tensor(0.) w= tensor(1.)\n",
      "epoch: 140 cost= tensor(0.) w= tensor(1.)\n",
      "epoch: 141 cost= tensor(0.) w= tensor(1.)\n",
      "epoch: 142 cost= tensor(0.) w= tensor(1.)\n",
      "epoch: 143 cost= tensor(0.) w= tensor(1.)\n",
      "epoch: 144 cost= tensor(0.) w= tensor(1.)\n",
      "epoch: 145 cost= tensor(0.) w= tensor(1.)\n",
      "epoch: 146 cost= tensor(0.) w= tensor(1.)\n",
      "epoch: 147 cost= tensor(0.) w= tensor(1.)\n",
      "epoch: 148 cost= tensor(0.) w= tensor(1.)\n",
      "epoch: 149 cost= tensor(0.) w= tensor(1.)\n",
      "epoch: 150 cost= tensor(0.) w= tensor(1.)\n",
      "epoch: 151 cost= tensor(0.) w= tensor(1.)\n",
      "epoch: 152 cost= tensor(0.) w= tensor(1.)\n",
      "epoch: 153 cost= tensor(0.) w= tensor(1.)\n",
      "epoch: 154 cost= tensor(0.) w= tensor(1.)\n",
      "epoch: 155 cost= tensor(0.) w= tensor(1.)\n",
      "epoch: 156 cost= tensor(0.) w= tensor(1.)\n",
      "epoch: 157 cost= tensor(0.) w= tensor(1.)\n",
      "epoch: 158 cost= tensor(0.) w= tensor(1.)\n",
      "epoch: 159 cost= tensor(0.) w= tensor(1.)\n",
      "epoch: 160 cost= tensor(0.) w= tensor(1.)\n",
      "epoch: 161 cost= tensor(0.) w= tensor(1.)\n",
      "epoch: 162 cost= tensor(0.) w= tensor(1.)\n",
      "epoch: 163 cost= tensor(0.) w= tensor(1.)\n",
      "epoch: 164 cost= tensor(0.) w= tensor(1.)\n",
      "epoch: 165 cost= tensor(0.) w= tensor(1.)\n",
      "epoch: 166 cost= tensor(0.) w= tensor(1.)\n",
      "epoch: 167 cost= tensor(0.) w= tensor(1.)\n",
      "epoch: 168 cost= tensor(0.) w= tensor(1.)\n",
      "epoch: 169 cost= tensor(0.) w= tensor(1.)\n",
      "epoch: 170 cost= tensor(0.) w= tensor(1.)\n",
      "epoch: 171 cost= tensor(0.) w= tensor(1.)\n",
      "epoch: 172 cost= tensor(0.) w= tensor(1.)\n",
      "epoch: 173 cost= tensor(0.) w= tensor(1.)\n",
      "epoch: 174 cost= tensor(0.) w= tensor(1.)\n",
      "epoch: 175 cost= tensor(0.) w= tensor(1.)\n",
      "epoch: 176 cost= tensor(0.) w= tensor(1.)\n",
      "epoch: 177 cost= tensor(0.) w= tensor(1.)\n",
      "epoch: 178 cost= tensor(0.) w= tensor(1.)\n",
      "epoch: 179 cost= tensor(0.) w= tensor(1.)\n",
      "epoch: 180 cost= tensor(0.) w= tensor(1.)\n",
      "epoch: 181 cost= tensor(0.) w= tensor(1.)\n",
      "epoch: 182 cost= tensor(0.) w= tensor(1.)\n",
      "epoch: 183 cost= tensor(0.) w= tensor(1.)\n",
      "epoch: 184 cost= tensor(0.) w= tensor(1.)\n",
      "epoch: 185 cost= tensor(0.) w= tensor(1.)\n",
      "epoch: 186 cost= tensor(0.) w= tensor(1.)\n",
      "epoch: 187 cost= tensor(0.) w= tensor(1.)\n",
      "epoch: 188 cost= tensor(0.) w= tensor(1.)\n",
      "epoch: 189 cost= tensor(0.) w= tensor(1.)\n",
      "epoch: 190 cost= tensor(0.) w= tensor(1.)\n",
      "epoch: 191 cost= tensor(0.) w= tensor(1.)\n",
      "epoch: 192 cost= tensor(0.) w= tensor(1.)\n",
      "epoch: 193 cost= tensor(0.) w= tensor(1.)\n",
      "epoch: 194 cost= tensor(0.) w= tensor(1.)\n",
      "epoch: 195 cost= tensor(0.) w= tensor(1.)\n",
      "epoch: 196 cost= tensor(0.) w= tensor(1.)\n",
      "epoch: 197 cost= tensor(0.) w= tensor(1.)\n",
      "epoch: 198 cost= tensor(0.) w= tensor(1.)\n",
      "epoch: 199 cost= tensor(0.) w= tensor(1.)\n",
      "최종 w:  tensor(1.)\n"
     ]
    }
   ],
   "source": [
    "w = 10\n",
    "for epoch in range(200):\n",
    "    c = cost (x_data, y_data, w)\n",
    "    print('epoch:', epoch, 'cost=', c, 'w=', w)\n",
    "    g = gradient(x_data, y_data, w)\n",
    "    w = w - 0.1 * g\n",
    "print('최종 w: ', w)"
   ]
  }
 ],
 "metadata": {
  "kernelspec": {
   "display_name": "Python 3 (ipykernel)",
   "language": "python",
   "name": "python3"
  },
  "language_info": {
   "codemirror_mode": {
    "name": "ipython",
    "version": 3
   },
   "file_extension": ".py",
   "mimetype": "text/x-python",
   "name": "python",
   "nbconvert_exporter": "python",
   "pygments_lexer": "ipython3",
   "version": "3.10.4"
  }
 },
 "nbformat": 4,
 "nbformat_minor": 5
}
