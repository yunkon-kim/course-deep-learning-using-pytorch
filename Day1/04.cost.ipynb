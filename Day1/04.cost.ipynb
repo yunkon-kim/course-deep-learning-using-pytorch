{
 "cells": [
  {
   "cell_type": "code",
   "execution_count": 1,
   "id": "b66b057d",
   "metadata": {},
   "outputs": [
    {
     "name": "stdout",
     "output_type": "stream",
     "text": [
      "Collecting matplotlib\n",
      "  Downloading matplotlib-3.6.0-cp310-cp310-win_amd64.whl (7.2 MB)\n",
      "     ---------------------------------------- 7.2/7.2 MB 1.1 MB/s eta 0:00:00\n",
      "Requirement already satisfied: numpy>=1.19 in c:\\programdata\\anaconda3\\envs\\torchtest\\lib\\site-packages (from matplotlib) (1.23.3)\n",
      "Collecting kiwisolver>=1.0.1\n",
      "  Downloading kiwisolver-1.4.4-cp310-cp310-win_amd64.whl (55 kB)\n",
      "     -------------------------------------- 55.3/55.3 kB 957.9 kB/s eta 0:00:00\n",
      "Collecting cycler>=0.10\n",
      "  Downloading cycler-0.11.0-py3-none-any.whl (6.4 kB)\n",
      "Requirement already satisfied: python-dateutil>=2.7 in c:\\programdata\\anaconda3\\envs\\torchtest\\lib\\site-packages (from matplotlib) (2.8.2)\n",
      "Requirement already satisfied: pillow>=6.2.0 in c:\\programdata\\anaconda3\\envs\\torchtest\\lib\\site-packages (from matplotlib) (9.2.0)\n",
      "Collecting contourpy>=1.0.1\n",
      "  Downloading contourpy-1.0.5-cp310-cp310-win_amd64.whl (164 kB)\n",
      "     -------------------------------------- 164.1/164.1 kB 1.6 MB/s eta 0:00:00\n",
      "Requirement already satisfied: packaging>=20.0 in c:\\programdata\\anaconda3\\envs\\torchtest\\lib\\site-packages (from matplotlib) (21.3)\n",
      "Requirement already satisfied: pyparsing>=2.2.1 in c:\\programdata\\anaconda3\\envs\\torchtest\\lib\\site-packages (from matplotlib) (3.0.9)\n",
      "Collecting fonttools>=4.22.0\n",
      "  Downloading fonttools-4.37.3-py3-none-any.whl (959 kB)\n",
      "     ------------------------------------ 960.0/960.0 kB 981.1 kB/s eta 0:00:00\n",
      "Requirement already satisfied: six>=1.5 in c:\\programdata\\anaconda3\\envs\\torchtest\\lib\\site-packages (from python-dateutil>=2.7->matplotlib) (1.16.0)\n",
      "Installing collected packages: kiwisolver, fonttools, cycler, contourpy, matplotlib\n",
      "Successfully installed contourpy-1.0.5 cycler-0.11.0 fonttools-4.37.3 kiwisolver-1.4.4 matplotlib-3.6.0\n"
     ]
    }
   ],
   "source": [
    "!pip install matplotlib"
   ]
  },
  {
   "cell_type": "code",
   "execution_count": 16,
   "id": "0e80f9fa",
   "metadata": {},
   "outputs": [],
   "source": [
    "import matplotlib.pyplot as plt\n",
    "import numpy as np"
   ]
  },
  {
   "cell_type": "code",
   "execution_count": 4,
   "id": "90420efe",
   "metadata": {},
   "outputs": [],
   "source": [
    "x_data = [1,2,3]\n",
    "y_data = [1,2,3]"
   ]
  },
  {
   "cell_type": "code",
   "execution_count": 11,
   "id": "d93d7960",
   "metadata": {},
   "outputs": [
    {
     "data": {
      "image/png": "[encoded data removed]",
      "text/plain": [
       "<Figure size 640x480 with 1 Axes>"
      ]
     },
     "metadata": {},
     "output_type": "display_data"
    }
   ],
   "source": [
    "plt.xlim(0,5)\n",
    "plt.ylim(0,5)\n",
    "plt.scatter(x_data,y_data)\n",
    "plt.show()"
   ]
  },
  {
   "cell_type": "code",
   "execution_count": 15,
   "id": "adb44c8e",
   "metadata": {},
   "outputs": [
    {
     "name": "stdout",
     "output_type": "stream",
     "text": [
      "0\n",
      "1\n",
      "2\n"
     ]
    }
   ],
   "source": [
    "for i in range(3): # [0,1,2]\n",
    "    print(i)"
   ]
  },
  {
   "cell_type": "code",
   "execution_count": 12,
   "id": "75194b3f",
   "metadata": {},
   "outputs": [],
   "source": [
    "def cost(x,y,w):\n",
    "    c=0\n",
    "    for i in range (len(x)):\n",
    "        hx = w*x[i]\n",
    "        c = c + (hx-y[i])**2\n",
    "    return c/len(x)"
   ]
  },
  {
   "cell_type": "code",
   "execution_count": 13,
   "id": "6ab09130",
   "metadata": {},
   "outputs": [
    {
     "name": "stdout",
     "output_type": "stream",
     "text": [
      "18.666666666666668\n",
      "4.666666666666667\n",
      "0.0\n",
      "4.666666666666667\n"
     ]
    }
   ],
   "source": [
    "print(cost(x_data,y_data, -1))\n",
    "print(cost(x_data,y_data, 0))\n",
    "print(cost(x_data,y_data, 1))\n",
    "print(cost(x_data,y_data, 2))"
   ]
  },
  {
   "cell_type": "code",
   "execution_count": 18,
   "id": "04f1a020",
   "metadata": {},
   "outputs": [
    {
     "data": {
      "text/plain": [
       "array([ 1.        ,  1.18367347,  1.36734694,  1.55102041,  1.73469388,\n",
       "        1.91836735,  2.10204082,  2.28571429,  2.46938776,  2.65306122,\n",
       "        2.83673469,  3.02040816,  3.20408163,  3.3877551 ,  3.57142857,\n",
       "        3.75510204,  3.93877551,  4.12244898,  4.30612245,  4.48979592,\n",
       "        4.67346939,  4.85714286,  5.04081633,  5.2244898 ,  5.40816327,\n",
       "        5.59183673,  5.7755102 ,  5.95918367,  6.14285714,  6.32653061,\n",
       "        6.51020408,  6.69387755,  6.87755102,  7.06122449,  7.24489796,\n",
       "        7.42857143,  7.6122449 ,  7.79591837,  7.97959184,  8.16326531,\n",
       "        8.34693878,  8.53061224,  8.71428571,  8.89795918,  9.08163265,\n",
       "        9.26530612,  9.44897959,  9.63265306,  9.81632653, 10.        ])"
      ]
     },
     "execution_count": 18,
     "metadata": {},
     "output_type": "execute_result"
    }
   ],
   "source": [
    "np.linspace(1,10) # 1 ~ 10 사이에 동일한 간격의 50개의 값을 생성함"
   ]
  },
  {
   "cell_type": "code",
   "execution_count": 20,
   "id": "3d244f3d",
   "metadata": {},
   "outputs": [
    {
     "data": {
      "text/plain": [
       "array([-3.        , -2.83673469, -2.67346939, -2.51020408, -2.34693878,\n",
       "       -2.18367347, -2.02040816, -1.85714286, -1.69387755, -1.53061224,\n",
       "       -1.36734694, -1.20408163, -1.04081633, -0.87755102, -0.71428571,\n",
       "       -0.55102041, -0.3877551 , -0.2244898 , -0.06122449,  0.10204082,\n",
       "        0.26530612,  0.42857143,  0.59183673,  0.75510204,  0.91836735,\n",
       "        1.08163265,  1.24489796,  1.40816327,  1.57142857,  1.73469388,\n",
       "        1.89795918,  2.06122449,  2.2244898 ,  2.3877551 ,  2.55102041,\n",
       "        2.71428571,  2.87755102,  3.04081633,  3.20408163,  3.36734694,\n",
       "        3.53061224,  3.69387755,  3.85714286,  4.02040816,  4.18367347,\n",
       "        4.34693878,  4.51020408,  4.67346939,  4.83673469,  5.        ])"
      ]
     },
     "execution_count": 20,
     "metadata": {},
     "output_type": "execute_result"
    }
   ],
   "source": [
    "np.linspace(-3,5,50)"
   ]
  },
  {
   "cell_type": "code",
   "execution_count": 24,
   "id": "d5fffc4f",
   "metadata": {},
   "outputs": [
    {
     "name": "stdout",
     "output_type": "stream",
     "text": [
      "w -3.0 cost= 74.66666666666667\n",
      "w -2.836734693877551 cost= 68.69582118561709\n",
      "w -2.673469387755102 cost= 62.97376093294461\n",
      "w -2.510204081632653 cost= 57.500485908649175\n",
      "w -2.3469387755102042 cost= 52.275996112730816\n",
      "w -2.183673469387755 cost= 47.3002915451895\n",
      "w -2.020408163265306 cost= 42.57337220602526\n",
      "w -1.8571428571428572 cost= 38.095238095238095\n",
      "w -1.6938775510204083 cost= 33.86588921282799\n",
      "w -1.5306122448979593 cost= 29.88532555879495\n",
      "w -1.3673469387755104 cost= 26.15354713313897\n",
      "w -1.2040816326530615 cost= 22.670553935860067\n",
      "w -1.0408163265306123 cost= 19.436345966958214\n",
      "w -0.8775510204081636 cost= 16.450923226433435\n",
      "w -0.7142857142857144 cost= 13.714285714285717\n",
      "w -0.5510204081632657 cost= 11.226433430515067\n",
      "w -0.38775510204081653 cost= 8.98736637512148\n",
      "w -0.22448979591836737 cost= 6.997084548104957\n",
      "w -0.06122448979591866 cost= 5.255587949465504\n",
      "w 0.1020408163265305 cost= 3.7628765792031107\n",
      "w 0.2653061224489792 cost= 2.518950437317787\n",
      "w 0.4285714285714284 cost= 1.5238095238095248\n",
      "w 0.5918367346938771 cost= 0.7774538386783302\n",
      "w 0.7551020408163263 cost= 0.27988338192419887\n",
      "w 0.9183673469387754 cost= 0.031098153547133207\n",
      "w 1.0816326530612246 cost= 0.031098153547133207\n",
      "w 1.2448979591836729 cost= 0.2798833819241968\n",
      "w 1.408163265306122 cost= 0.7774538386783268\n",
      "w 1.5714285714285712 cost= 1.5238095238095226\n",
      "w 1.7346938775510203 cost= 2.5189504373177836\n",
      "w 1.8979591836734686 cost= 3.762876579203103\n",
      "w 2.0612244897959178 cost= 5.255587949465494\n",
      "w 2.224489795918367 cost= 6.997084548104951\n",
      "w 2.387755102040816 cost= 8.987366375121475\n",
      "w 2.5510204081632653 cost= 11.226433430515064\n",
      "w 2.7142857142857135 cost= 13.714285714285703\n",
      "w 2.8775510204081627 cost= 16.45092322643342\n",
      "w 3.040816326530612 cost= 19.436345966958203\n",
      "w 3.204081632653061 cost= 22.670553935860056\n",
      "w 3.3673469387755093 cost= 26.153547133138954\n",
      "w 3.5306122448979584 cost= 29.88532555879492\n",
      "w 3.6938775510204076 cost= 33.86588921282798\n",
      "w 3.8571428571428568 cost= 38.09523809523808\n",
      "w 4.020408163265306 cost= 42.57337220602526\n",
      "w 4.183673469387754 cost= 47.30029154518948\n",
      "w 4.346938775510203 cost= 52.27599611273078\n",
      "w 4.5102040816326525 cost= 57.50048590864915\n",
      "w 4.673469387755102 cost= 62.97376093294459\n",
      "w 4.836734693877551 cost= 68.69582118561709\n",
      "w 5.0 cost= 74.66666666666667\n"
     ]
    },
    {
     "data": {
      "image/png": "[encoded data removed]",
      "text/plain": [
       "<Figure size 640x480 with 1 Axes>"
      ]
     },
     "metadata": {},
     "output_type": "display_data"
    }
   ],
   "source": [
    "for w in np.linspace(-3, 5, 50):\n",
    "    c = cost(x_data, y_data, w)\n",
    "    print('w', w, 'cost=', c)\n",
    "    plt.plot(w, c, 'ro') # r: red, o: circle marker # plt.scatter(w,c)\n",
    "    \n",
    "plt.xlabel('w')\n",
    "plt.ylabel('cost(mse)')\n",
    "plt.show()"
   ]
  },
  {
   "cell_type": "markdown",
   "id": "d373efef",
   "metadata": {},
   "source": [
    "w값 임의의 값을 하나 부여\n",
    "\n",
    "- y = 2 미분 0 (상수의 미분)\n",
    "- y = x 미분 1\n",
    "- y = 2x 미분 2\n",
    "- y = x^2 미분 2x\n",
    "- y = x^3 미분 3x^2\n",
    "\n",
    "w = w - 러닝레이트 * 미분\n",
    "반복한다."
   ]
  },
  {
   "cell_type": "code",
   "execution_count": null,
   "id": "84240475",
   "metadata": {},
   "outputs": [],
   "source": []
  }
 ],
 "metadata": {
  "kernelspec": {
   "display_name": "Python 3 (ipykernel)",
   "language": "python",
   "name": "python3"
  },
  "language_info": {
   "codemirror_mode": {
    "name": "ipython",
    "version": 3
   },
   "file_extension": ".py",
   "mimetype": "text/x-python",
   "name": "python",
   "nbconvert_exporter": "python",
   "pygments_lexer": "ipython3",
   "version": "3.10.4"
  }
 },
 "nbformat": 4,
 "nbformat_minor": 5
}
