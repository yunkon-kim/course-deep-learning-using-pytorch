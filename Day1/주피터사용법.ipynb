{
 "cells": [
  {
   "cell_type": "code",
   "execution_count": null,
   "id": "25a9d608",
   "metadata": {},
   "outputs": [],
   "source": []
  },
  {
   "cell_type": "markdown",
   "id": "df907f4b",
   "metadata": {},
   "source": [
    "- edit mode (연두색): \n",
    "    ctrl + enter (셀 실행), \n",
    "    shift + enter (셀 실행 후 아래에 셀 추가/이동), \n",
    "    tab(자동완성)\n",
    "    shift + tab (argument, signature 확인)\n",
    "    ctrl + / (주석 및 제거)\n",
    "    esc (커맨드모드 전환)\n",
    "- command mode (하늘색) \n",
    "    enter (에디트모드)\n",
    "    a (위에 셀 추가)\n",
    "    b (아래 셀 추가)\n",
    "    x (셀 삭제)\n",
    "    z (삭제된 셀 복원)\n",
    "    o (Shrink)\n",
    "    y (코드 셀)\n",
    "    m (주석 셀)\n",
    "    "
   ]
  },
  {
   "cell_type": "code",
   "execution_count": 2,
   "id": "e7c2fa88",
   "metadata": {},
   "outputs": [
    {
     "name": "stdout",
     "output_type": "stream",
     "text": [
      "Hello\n"
     ]
    }
   ],
   "source": [
    "print('Hello')"
   ]
  },
  {
   "cell_type": "code",
   "execution_count": null,
   "id": "e7b467ca",
   "metadata": {},
   "outputs": [],
   "source": [
    "print()"
   ]
  },
  {
   "cell_type": "markdown",
   "id": "dc3de819",
   "metadata": {},
   "source": [
    "### PyTorch image\n",
    "<img src=\"https://upload.wikimedia.org/wikipedia/commons/thumb/c/c6/PyTorch_logo_black.svg/440px-PyTorch_logo_black.svg.png\"/>"
   ]
  }
 ],
 "metadata": {
  "kernelspec": {
   "display_name": "Python 3 (ipykernel)",
   "language": "python",
   "name": "python3"
  },
  "language_info": {
   "codemirror_mode": {
    "name": "ipython",
    "version": 3
   },
   "file_extension": ".py",
   "mimetype": "text/x-python",
   "name": "python",
   "nbconvert_exporter": "python",
   "pygments_lexer": "ipython3",
   "version": "3.10.4"
  }
 },
 "nbformat": 4,
 "nbformat_minor": 5
}
