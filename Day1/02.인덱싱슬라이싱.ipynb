{
 "cells": [
  {
   "cell_type": "code",
   "execution_count": 3,
   "id": "8321162b",
   "metadata": {},
   "outputs": [],
   "source": [
    "import torch"
   ]
  },
  {
   "cell_type": "code",
   "execution_count": 5,
   "id": "e902b671",
   "metadata": {},
   "outputs": [],
   "source": [
    "t = torch.tensor([11,22,33,44,55])"
   ]
  },
  {
   "cell_type": "markdown",
   "id": "56c80513",
   "metadata": {},
   "source": [
    "# 인덱싱"
   ]
  },
  {
   "cell_type": "code",
   "execution_count": 8,
   "id": "0acbc34f",
   "metadata": {},
   "outputs": [
    {
     "data": {
      "text/plain": [
       "11"
      ]
     },
     "execution_count": 8,
     "metadata": {},
     "output_type": "execute_result"
    }
   ],
   "source": [
    "t[0].item()"
   ]
  },
  {
   "cell_type": "code",
   "execution_count": 10,
   "id": "f5c08e93",
   "metadata": {},
   "outputs": [
    {
     "data": {
      "text/plain": [
       "55"
      ]
     },
     "execution_count": 10,
     "metadata": {},
     "output_type": "execute_result"
    }
   ],
   "source": [
    "t[-1].item()"
   ]
  },
  {
   "cell_type": "markdown",
   "id": "9c2e8d99",
   "metadata": {},
   "source": [
    "## 복수개 인덱싱\n",
    "- [[인덱스,....]]"
   ]
  },
  {
   "cell_type": "code",
   "execution_count": 24,
   "id": "de1de6a6",
   "metadata": {},
   "outputs": [
    {
     "data": {
      "text/plain": [
       "tensor([22, 44, 55])"
      ]
     },
     "execution_count": 24,
     "metadata": {},
     "output_type": "execute_result"
    }
   ],
   "source": [
    "t[[1,3,4]]"
   ]
  },
  {
   "cell_type": "markdown",
   "id": "e90b795f",
   "metadata": {},
   "source": [
    "#### 슬라이싱\n",
    "- [시작인덱스:끝인덱스:증가치]\n",
    "- 시작인덱스 <= index < 끝인덱스"
   ]
  },
  {
   "cell_type": "code",
   "execution_count": 11,
   "id": "d8cc0bf1",
   "metadata": {},
   "outputs": [
    {
     "data": {
      "text/plain": [
       "tensor([22, 33])"
      ]
     },
     "execution_count": 11,
     "metadata": {},
     "output_type": "execute_result"
    }
   ],
   "source": [
    "t[1:3:1] # 1<=idx<3 1,2"
   ]
  },
  {
   "cell_type": "code",
   "execution_count": 14,
   "id": "67e4cf28",
   "metadata": {},
   "outputs": [
    {
     "data": {
      "text/plain": [
       "array([22, 33], dtype=int64)"
      ]
     },
     "execution_count": 14,
     "metadata": {},
     "output_type": "execute_result"
    }
   ],
   "source": [
    "t[1:3:1].numpy()"
   ]
  },
  {
   "cell_type": "code",
   "execution_count": 15,
   "id": "62269072",
   "metadata": {},
   "outputs": [
    {
     "data": {
      "text/plain": [
       "tensor([22, 33])"
      ]
     },
     "execution_count": 15,
     "metadata": {},
     "output_type": "execute_result"
    }
   ],
   "source": [
    "t[1:3]"
   ]
  },
  {
   "cell_type": "code",
   "execution_count": 16,
   "id": "9083f930",
   "metadata": {},
   "outputs": [
    {
     "data": {
      "text/plain": [
       "tensor([33, 44, 55])"
      ]
     },
     "execution_count": 16,
     "metadata": {},
     "output_type": "execute_result"
    }
   ],
   "source": [
    "t[2:]"
   ]
  },
  {
   "cell_type": "markdown",
   "id": "1745d26b",
   "metadata": {},
   "source": [
    "### 2차원 인덱싱 슬라이싱\n",
    "- [행]\n",
    "- [행, 열]\n",
    "\n",
    "### 3차원 인덱싱 슬라이싱\n",
    "- [면]\n",
    "- [면, 행]\n",
    "- [면, 행, 열]"
   ]
  },
  {
   "cell_type": "code",
   "execution_count": 18,
   "id": "397ef3dc",
   "metadata": {},
   "outputs": [
    {
     "data": {
      "text/plain": [
       "tensor([[11, 22],\n",
       "        [33, 44],\n",
       "        [55, 66]])"
      ]
     },
     "execution_count": 18,
     "metadata": {},
     "output_type": "execute_result"
    }
   ],
   "source": [
    "tt = torch.tensor([[11,22],[33,44],[55,66]]) # 3 x 2\n",
    "tt"
   ]
  },
  {
   "cell_type": "code",
   "execution_count": 19,
   "id": "adb28688",
   "metadata": {},
   "outputs": [
    {
     "data": {
      "text/plain": [
       "tensor([11, 22])"
      ]
     },
     "execution_count": 19,
     "metadata": {},
     "output_type": "execute_result"
    }
   ],
   "source": [
    "tt[0]"
   ]
  },
  {
   "cell_type": "code",
   "execution_count": 21,
   "id": "e82e3197",
   "metadata": {},
   "outputs": [
    {
     "data": {
      "text/plain": [
       "tensor(22)"
      ]
     },
     "execution_count": 21,
     "metadata": {},
     "output_type": "execute_result"
    }
   ],
   "source": [
    "tt[0,1]"
   ]
  },
  {
   "cell_type": "code",
   "execution_count": 23,
   "id": "3f8b741d",
   "metadata": {},
   "outputs": [
    {
     "data": {
      "text/plain": [
       "tensor([[33, 44],\n",
       "        [55, 66]])"
      ]
     },
     "execution_count": 23,
     "metadata": {},
     "output_type": "execute_result"
    }
   ],
   "source": [
    "tt[1:]"
   ]
  },
  {
   "cell_type": "code",
   "execution_count": 22,
   "id": "60c20fa1",
   "metadata": {},
   "outputs": [
    {
     "data": {
      "text/plain": [
       "tensor([[44],\n",
       "        [66]])"
      ]
     },
     "execution_count": 22,
     "metadata": {},
     "output_type": "execute_result"
    }
   ],
   "source": [
    "tt[1:, 1:]"
   ]
  }
 ],
 "metadata": {
  "kernelspec": {
   "display_name": "Python 3 (ipykernel)",
   "language": "python",
   "name": "python3"
  },
  "language_info": {
   "codemirror_mode": {
    "name": "ipython",
    "version": 3
   },
   "file_extension": ".py",
   "mimetype": "text/x-python",
   "name": "python",
   "nbconvert_exporter": "python",
   "pygments_lexer": "ipython3",
   "version": "3.10.4"
  }
 },
 "nbformat": 4,
 "nbformat_minor": 5
}
