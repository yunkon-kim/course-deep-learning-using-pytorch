{
 "cells": [
  {
   "cell_type": "code",
   "execution_count": null,
   "id": "3794524d",
   "metadata": {},
   "outputs": [],
   "source": [
    "s = 11 # 3.14, 'abc'\n",
    "v = [11, 22, 33]\n",
    "m = [[11, 22, 33], [110, 220, 330]] # 2 x 3 : 2개의 vector, 각 vector에는 3개의 scalar\n",
    "n3 = [[[11, 22, 33], [110, 220, 330]], [[11, 22, 33], [110, 220, 330]]] # 2 x 2 x 3 \n",
    "n4 = [[[[11, 22, 33], [110, 220, 330]], [[11, 22, 33], [110, 220, 330]]],[[[11, 22, 33], [110, 220, 330]], [[11, 22, 33], [110, 220, 330]]]] # 2 x 2 x 2 x 3\n",
    "\n",
    "# 위 모든 것이 tensor (e.g., scalar tensor, vector tensor, matrix tensor, 3-Tensor, 4-Tensor, and etc.)"
   ]
  },
  {
   "cell_type": "code",
   "execution_count": 1,
   "id": "274856f3",
   "metadata": {},
   "outputs": [],
   "source": [
    "import torch"
   ]
  },
  {
   "cell_type": "code",
   "execution_count": 3,
   "id": "5572136f",
   "metadata": {},
   "outputs": [
    {
     "data": {
      "text/plain": [
       "tensor([0, 1, 2, 3, 4, 5], dtype=torch.int32)"
      ]
     },
     "execution_count": 3,
     "metadata": {},
     "output_type": "execute_result"
    }
   ],
   "source": [
    "tt = torch.IntTensor([0,1,2,3,4,5])\n",
    "tt"
   ]
  },
  {
   "cell_type": "code",
   "execution_count": 5,
   "id": "9803ffce",
   "metadata": {},
   "outputs": [
    {
     "name": "stdout",
     "output_type": "stream",
     "text": [
      "<class 'torch.Tensor'>\n"
     ]
    }
   ],
   "source": [
    "print(type(tt))"
   ]
  },
  {
   "cell_type": "code",
   "execution_count": 6,
   "id": "6d5fb02e",
   "metadata": {},
   "outputs": [
    {
     "data": {
      "text/plain": [
       "tensor([[0, 1],\n",
       "        [2, 3],\n",
       "        [4, 5]], dtype=torch.int32)"
      ]
     },
     "execution_count": 6,
     "metadata": {},
     "output_type": "execute_result"
    }
   ],
   "source": [
    "tt1 = torch.IntTensor([[0,1],[2,3],[4,5]])\n",
    "tt1"
   ]
  },
  {
   "cell_type": "code",
   "execution_count": 7,
   "id": "f13e10f8",
   "metadata": {},
   "outputs": [
    {
     "data": {
      "text/plain": [
       "tensor([[0., 1.],\n",
       "        [2., 3.],\n",
       "        [4., 5.]])"
      ]
     },
     "execution_count": 7,
     "metadata": {},
     "output_type": "execute_result"
    }
   ],
   "source": [
    "tt2 = torch.FloatTensor([[0,1],[2,3],[4,5]])\n",
    "tt2"
   ]
  },
  {
   "cell_type": "code",
   "execution_count": 10,
   "id": "47a1f581",
   "metadata": {},
   "outputs": [
    {
     "data": {
      "text/plain": [
       "tensor([[0., 1.],\n",
       "        [2., 3.],\n",
       "        [4., 5.]], dtype=torch.float64)"
      ]
     },
     "execution_count": 10,
     "metadata": {},
     "output_type": "execute_result"
    }
   ],
   "source": [
    "tt3 = torch.DoubleTensor([[0,1],[2,3],[4,5]])\n",
    "tt3"
   ]
  },
  {
   "cell_type": "code",
   "execution_count": 9,
   "id": "312feae4",
   "metadata": {},
   "outputs": [
    {
     "data": {
      "text/plain": [
       "tensor([[0, 1],\n",
       "        [2, 3],\n",
       "        [4, 5]])"
      ]
     },
     "execution_count": 9,
     "metadata": {},
     "output_type": "execute_result"
    }
   ],
   "source": [
    "tt4 = torch.LongTensor([[0,1],[2,3],[4,5]])\n",
    "tt4"
   ]
  },
  {
   "cell_type": "code",
   "execution_count": 12,
   "id": "3328af99",
   "metadata": {},
   "outputs": [
    {
     "data": {
      "text/plain": [
       "tensor([0, 1, 2, 3, 4, 5], dtype=torch.int32)"
      ]
     },
     "execution_count": 12,
     "metadata": {},
     "output_type": "execute_result"
    }
   ],
   "source": [
    "tt5 = torch.tensor([0,1,2,3,4,5], dtype=torch.int32)\n",
    "tt5"
   ]
  },
  {
   "cell_type": "code",
   "execution_count": null,
   "id": "e92b1b40",
   "metadata": {},
   "outputs": [],
   "source": [
    "### Python\n",
    "객체: 속성 + 메소드\n",
    "객체.속성, 객체.메소드()"
   ]
  },
  {
   "cell_type": "code",
   "execution_count": 13,
   "id": "d3535634",
   "metadata": {},
   "outputs": [
    {
     "data": {
      "text/plain": [
       "array([0, 1, 2, 3, 4, 5])"
      ]
     },
     "execution_count": 13,
     "metadata": {},
     "output_type": "execute_result"
    }
   ],
   "source": [
    "tt5.numpy() # numpy ndarray"
   ]
  },
  {
   "cell_type": "code",
   "execution_count": 15,
   "id": "e568e840",
   "metadata": {},
   "outputs": [
    {
     "data": {
      "text/plain": [
       "tensor(20)"
      ]
     },
     "execution_count": 15,
     "metadata": {},
     "output_type": "execute_result"
    }
   ],
   "source": [
    "# tt6 = torch.IntTensor(20) ? scalar node x\n",
    "tt6 = torch.tensor(20)\n",
    "tt6"
   ]
  },
  {
   "cell_type": "code",
   "execution_count": null,
   "id": "667d602f",
   "metadata": {},
   "outputs": [],
   "source": [
    "# tt5.item() #vector 이상은 사용불가..."
   ]
  },
  {
   "cell_type": "code",
   "execution_count": 16,
   "id": "814b3eb8",
   "metadata": {},
   "outputs": [
    {
     "data": {
      "text/plain": [
       "20"
      ]
     },
     "execution_count": 16,
     "metadata": {},
     "output_type": "execute_result"
    }
   ],
   "source": [
    "tt6.item() # scalar node 만 기능"
   ]
  },
  {
   "cell_type": "code",
   "execution_count": 17,
   "id": "c192c0b8",
   "metadata": {},
   "outputs": [
    {
     "data": {
      "text/plain": [
       "array(20, dtype=int64)"
      ]
     },
     "execution_count": 17,
     "metadata": {},
     "output_type": "execute_result"
    }
   ],
   "source": [
    "tt6.numpy()"
   ]
  },
  {
   "cell_type": "markdown",
   "id": "a62d7a0c",
   "metadata": {},
   "source": [
    "### Operation"
   ]
  },
  {
   "cell_type": "code",
   "execution_count": 18,
   "id": "9d1198e6",
   "metadata": {},
   "outputs": [
    {
     "data": {
      "text/plain": [
       "tensor([1, 2, 3])"
      ]
     },
     "execution_count": 18,
     "metadata": {},
     "output_type": "execute_result"
    }
   ],
   "source": [
    "a = torch.tensor(5)\n",
    "b = torch.tensor([1,2,3])"
   ]
  },
  {
   "cell_type": "code",
   "execution_count": 23,
   "id": "cf7ee7b4",
   "metadata": {},
   "outputs": [
    {
     "data": {
      "text/plain": [
       "tensor(1)"
      ]
     },
     "execution_count": 23,
     "metadata": {},
     "output_type": "execute_result"
    }
   ],
   "source": [
    "b[0]"
   ]
  },
  {
   "cell_type": "code",
   "execution_count": 24,
   "id": "4be3d823",
   "metadata": {},
   "outputs": [
    {
     "data": {
      "text/plain": [
       "tensor(2)"
      ]
     },
     "execution_count": 24,
     "metadata": {},
     "output_type": "execute_result"
    }
   ],
   "source": [
    "b[1]"
   ]
  },
  {
   "cell_type": "code",
   "execution_count": 25,
   "id": "cd24eb6b",
   "metadata": {},
   "outputs": [
    {
     "data": {
      "text/plain": [
       "tensor(3)"
      ]
     },
     "execution_count": 25,
     "metadata": {},
     "output_type": "execute_result"
    }
   ],
   "source": [
    "b[-1]"
   ]
  },
  {
   "cell_type": "code",
   "execution_count": 20,
   "id": "60589cb0",
   "metadata": {},
   "outputs": [
    {
     "data": {
      "text/plain": [
       "tensor([6, 7, 8])"
      ]
     },
     "execution_count": 20,
     "metadata": {},
     "output_type": "execute_result"
    }
   ],
   "source": [
    "c = a.add(b) # torch.add(a,b) #기본산술연산은 +, -, **, *, /, %, //\n",
    "c"
   ]
  },
  {
   "cell_type": "code",
   "execution_count": 26,
   "id": "3bf96b96",
   "metadata": {},
   "outputs": [
    {
     "data": {
      "text/plain": [
       "tensor([6, 7, 8])"
      ]
     },
     "execution_count": 26,
     "metadata": {},
     "output_type": "execute_result"
    }
   ],
   "source": [
    "d = a + b\n",
    "d"
   ]
  },
  {
   "cell_type": "markdown",
   "id": "a806ac6d",
   "metadata": {},
   "source": [
    "## 그래프연산(산술)\n",
    "- broad casting: 연산 대상 데이터의 사이즈에 맞추어 자동확장\n",
    "- element-wise: 동인한 인덱스 끼리 연산"
   ]
  },
  {
   "cell_type": "code",
   "execution_count": 30,
   "id": "df784e1d",
   "metadata": {},
   "outputs": [
    {
     "data": {
      "text/plain": [
       "tensor([[2, 3, 4],\n",
       "        [6, 7, 8]])"
      ]
     },
     "execution_count": 30,
     "metadata": {},
     "output_type": "execute_result"
    }
   ],
   "source": [
    "#e = torch.tensor([[1],[2]]) # 2 x 1\n",
    "#e = torch.tensor([1,2,3])\n",
    "e = torch.tensor([[1],[2]]) # 2 x 1\n",
    "f = torch.tensor([[1,2,3], [4,5,6]]) # 2 x 3\n",
    "g = e + f\n",
    "g"
   ]
  },
  {
   "cell_type": "code",
   "execution_count": 31,
   "id": "0e26e9bd",
   "metadata": {},
   "outputs": [
    {
     "data": {
      "text/plain": [
       "tensor(1)"
      ]
     },
     "execution_count": 31,
     "metadata": {},
     "output_type": "execute_result"
    }
   ],
   "source": [
    "f[0,0] # [행, 열]"
   ]
  },
  {
   "cell_type": "code",
   "execution_count": 32,
   "id": "cae579a8",
   "metadata": {},
   "outputs": [
    {
     "data": {
      "text/plain": [
       "tensor([1, 2, 3])"
      ]
     },
     "execution_count": 32,
     "metadata": {},
     "output_type": "execute_result"
    }
   ],
   "source": [
    "f[0] # [행]"
   ]
  }
 ],
 "metadata": {
  "kernelspec": {
   "display_name": "Python 3 (ipykernel)",
   "language": "python",
   "name": "python3"
  },
  "language_info": {
   "codemirror_mode": {
    "name": "ipython",
    "version": 3
   },
   "file_extension": ".py",
   "mimetype": "text/x-python",
   "name": "python",
   "nbconvert_exporter": "python",
   "pygments_lexer": "ipython3",
   "version": "3.10.4"
  }
 },
 "nbformat": 4,
 "nbformat_minor": 5
}
