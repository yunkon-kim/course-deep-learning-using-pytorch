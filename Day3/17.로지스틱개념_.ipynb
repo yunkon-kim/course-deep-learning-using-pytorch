{
 "cells": [
  {
   "cell_type": "code",
   "execution_count": 27,
   "id": "629fee12",
   "metadata": {},
   "outputs": [],
   "source": [
    "import torch\n",
    "from torch.optim import Adam\n",
    "from torch.nn import Linear, MSELoss, Sequential\n",
    "import numpy as np\n",
    "import pandas as pd\n",
    "import matplotlib.pyplot as plt\n",
    "import torch.nn.functional as F"
   ]
  },
  {
   "cell_type": "code",
   "execution_count": 41,
   "id": "f3eca0b1",
   "metadata": {},
   "outputs": [],
   "source": [
    "# x_data = torch.FloatTensor([1,2,3]) # 출석일수\n",
    "# y_data = torch.FloatTensor([1,2,3]) # 합격여부\n",
    "x_data = torch.FloatTensor([1,2,3,4,5,6,7,8,9,10]) # 출석일수\n",
    "y_data = torch.FloatTensor([0,0,0,0,0,1,1,1,1,1]) # 합격여부"
   ]
  },
  {
   "cell_type": "code",
   "execution_count": 45,
   "id": "076790df",
   "metadata": {},
   "outputs": [],
   "source": [
    "def cost(x, y, w):\n",
    "#     hx = w*x + b\n",
    "    z = w*x\n",
    "    hx = torch.sigmoid(z)\n",
    "#     cost_i = -(y*torch.math.log(hx)+(1-y)*torch.math.log(1-hx))\n",
    "#     cost_i = F.binary_cross_entropy(hx,y)\n",
    "    cost_i = F.binary_cross_entropy_with_logits(z,y) # sigmoid가 안에 들어가 있음\n",
    "    c = torch.mean( cost_i )\n",
    "#    c = torch.mean( (hx-y)**2 )\n",
    "    return c"
   ]
  },
  {
   "cell_type": "code",
   "execution_count": 46,
   "id": "0caa24d2",
   "metadata": {},
   "outputs": [
    {
     "data": {
      "text/plain": [
       "tensor(4.5051)"
      ]
     },
     "execution_count": 46,
     "metadata": {},
     "output_type": "execute_result"
    }
   ],
   "source": [
    "cost (x_data, y_data, 3)"
   ]
  },
  {
   "cell_type": "code",
   "execution_count": 47,
   "id": "6b4f2096",
   "metadata": {},
   "outputs": [
    {
     "data": {
      "image/png": "[encoded data removed]",
      "text/plain": [
       "<Figure size 640x480 with 1 Axes>"
      ]
     },
     "metadata": {},
     "output_type": "display_data"
    }
   ],
   "source": [
    "for w in np.linspace(-3,5,50):\n",
    "    c = cost(x_data, y_data, w)\n",
    "    plt.plot(w,c,'ro')\n",
    "plt.show()"
   ]
  },
  {
   "cell_type": "code",
   "execution_count": null,
   "id": "137f225e",
   "metadata": {},
   "outputs": [],
   "source": []
  }
 ],
 "metadata": {
  "kernelspec": {
   "display_name": "Python 3 (ipykernel)",
   "language": "python",
   "name": "python3"
  },
  "language_info": {
   "codemirror_mode": {
    "name": "ipython",
    "version": 3
   },
   "file_extension": ".py",
   "mimetype": "text/x-python",
   "name": "python",
   "nbconvert_exporter": "python",
   "pygments_lexer": "ipython3",
   "version": "3.10.4"
  }
 },
 "nbformat": 4,
 "nbformat_minor": 5
}
