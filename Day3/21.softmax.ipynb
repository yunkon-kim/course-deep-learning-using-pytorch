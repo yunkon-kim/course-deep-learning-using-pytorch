{
 "cells": [
  {
   "cell_type": "code",
   "execution_count": 1,
   "id": "f2047ec7",
   "metadata": {},
   "outputs": [],
   "source": [
    "import numpy as np\n",
    "import math"
   ]
  },
  {
   "cell_type": "code",
   "execution_count": 5,
   "id": "1cd34c2f",
   "metadata": {},
   "outputs": [],
   "source": [
    "def fn(x):\n",
    "    print(x/x.sum())"
   ]
  },
  {
   "cell_type": "code",
   "execution_count": 7,
   "id": "d2872825",
   "metadata": {},
   "outputs": [],
   "source": [
    "def softmax(x):\n",
    "    e = np.exp(x)\n",
    "    print(e)\n",
    "    print('========')\n",
    "    print(e/e.sum())"
   ]
  },
  {
   "cell_type": "code",
   "execution_count": 10,
   "id": "f1ca7b3b",
   "metadata": {},
   "outputs": [
    {
     "name": "stdout",
     "output_type": "stream",
     "text": [
      "[7.3890561  2.71828183 1.10517092]\n",
      "========\n",
      "[0.65900114 0.24243297 0.09856589]\n"
     ]
    }
   ],
   "source": [
    "arr = np.array([2.0, 1.0, 0.1])\n",
    "# fn(arr)\n",
    "softmax(arr)"
   ]
  }
 ],
 "metadata": {
  "kernelspec": {
   "display_name": "Python 3 (ipykernel)",
   "language": "python",
   "name": "python3"
  },
  "language_info": {
   "codemirror_mode": {
    "name": "ipython",
    "version": 3
   },
   "file_extension": ".py",
   "mimetype": "text/x-python",
   "name": "python",
   "nbconvert_exporter": "python",
   "pygments_lexer": "ipython3",
   "version": "3.10.4"
  }
 },
 "nbformat": 4,
 "nbformat_minor": 5
}
