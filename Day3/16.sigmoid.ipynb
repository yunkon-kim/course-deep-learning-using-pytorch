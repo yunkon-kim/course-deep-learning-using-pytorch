{
 "cells": [
  {
   "cell_type": "code",
   "execution_count": 2,
   "id": "b6431e30",
   "metadata": {},
   "outputs": [],
   "source": [
    "import numpy as np\n",
    "import math\n",
    "import matplotlib.pyplot as plt"
   ]
  },
  {
   "cell_type": "code",
   "execution_count": 6,
   "id": "6e6e6381",
   "metadata": {},
   "outputs": [
    {
     "name": "stdout",
     "output_type": "stream",
     "text": [
      "4\n",
      "0.25\n",
      "8\n",
      "0.125\n"
     ]
    }
   ],
   "source": [
    "print(2**2)\n",
    "print(2**-2)\n",
    "print(2**3)\n",
    "print(2**-3)"
   ]
  },
  {
   "cell_type": "code",
   "execution_count": 8,
   "id": "57c2cc4a",
   "metadata": {},
   "outputs": [
    {
     "data": {
      "text/plain": [
       "2.718281828459045"
      ]
     },
     "execution_count": 8,
     "metadata": {},
     "output_type": "execute_result"
    }
   ],
   "source": [
    "math.e"
   ]
  },
  {
   "cell_type": "code",
   "execution_count": 17,
   "id": "d7bd9968",
   "metadata": {},
   "outputs": [
    {
     "data": {
      "text/plain": [
       "314.1592"
      ]
     },
     "execution_count": 17,
     "metadata": {},
     "output_type": "execute_result"
    }
   ],
   "source": [
    "3.141592e2 # e2 = 10^2"
   ]
  },
  {
   "cell_type": "code",
   "execution_count": 18,
   "id": "91900a24",
   "metadata": {},
   "outputs": [
    {
     "data": {
      "text/plain": [
       "0.03141592"
      ]
     },
     "execution_count": 18,
     "metadata": {},
     "output_type": "execute_result"
    }
   ],
   "source": [
    "3.141592e-2 # e-2 = 1/10^2"
   ]
  },
  {
   "cell_type": "markdown",
   "id": "19560d7b",
   "metadata": {},
   "source": [
    "### sigmoid 함수는\n",
    "- 음수이면 1\n",
    "- 0: 0.5\n",
    "- 양수이면 1"
   ]
  },
  {
   "cell_type": "code",
   "execution_count": 19,
   "id": "cd0e74b1",
   "metadata": {},
   "outputs": [],
   "source": [
    "def sigmoid(z):\n",
    "    return 1/(1+math.e**-z)"
   ]
  },
  {
   "cell_type": "code",
   "execution_count": 20,
   "id": "4a5a8560",
   "metadata": {},
   "outputs": [
    {
     "name": "stdout",
     "output_type": "stream",
     "text": [
      "4.539786870243442e-05\n",
      "0.2689414213699951\n",
      "0.5\n",
      "0.7310585786300049\n",
      "0.9999546021312976\n"
     ]
    }
   ],
   "source": [
    "print(sigmoid(-10))\n",
    "print(sigmoid(-1))\n",
    "print(sigmoid(0))\n",
    "print(sigmoid(1))\n",
    "print(sigmoid(10))"
   ]
  },
  {
   "cell_type": "code",
   "execution_count": 24,
   "id": "5af692b2",
   "metadata": {},
   "outputs": [
    {
     "name": "stdout",
     "output_type": "stream",
     "text": [
      "z= -10.0 sigmoid= 4.539786870243442e-05\n",
      "z= -9.591836734693878 sigmoid= 6.827922460227626e-05\n",
      "z= -9.183673469387756 sigmoid= 0.00010269201788605242\n",
      "z= -8.775510204081632 sigmoid= 0.00015444621237296896\n",
      "z= -8.36734693877551 sigmoid= 0.00023227716028846411\n",
      "z= -7.959183673469388 sigmoid= 0.00034931619233910034\n",
      "z= -7.551020408163265 sigmoid= 0.0005252974713971299\n",
      "z= -7.142857142857142 sigmoid= 0.0007898659417364625\n",
      "z= -6.73469387755102 sigmoid= 0.0011875272078692614\n",
      "z= -6.326530612244898 sigmoid= 0.0017850350245561873\n",
      "z= -5.918367346938775 sigmoid= 0.002682373279631705\n",
      "z= -5.5102040816326525 sigmoid= 0.004028983358498863\n",
      "z= -5.1020408163265305 sigmoid= 0.006047521873600133\n",
      "z= -4.6938775510204085 sigmoid= 0.009068149441355249\n",
      "z= -4.285714285714286 sigmoid= 0.013576916943744369\n",
      "z= -3.8775510204081627 sigmoid= 0.02028160182709458\n",
      "z= -3.4693877551020407 sigmoid= 0.03019590537835197\n",
      "z= -3.0612244897959187 sigmoid= 0.044735346405736204\n",
      "z= -2.6530612244897958 sigmoid= 0.06580058306394546\n",
      "z= -2.244897959183673 sigmoid= 0.09579046596165103\n",
      "z= -1.8367346938775508 sigmoid= 0.1374379324481545\n",
      "z= -1.4285714285714288 sigmoid= 0.19332136980230868\n",
      "z= -1.020408163265305 sigmoid= 0.2649479029028565\n",
      "z= -0.612244897959183 sigmoid= 0.3515472765761176\n",
      "z= -0.204081632653061 sigmoid= 0.44915593781575736\n",
      "z= 0.204081632653061 sigmoid= 0.5508440621842426\n",
      "z= 0.612244897959183 sigmoid= 0.6484527234238823\n",
      "z= 1.0204081632653068 sigmoid= 0.7350520970971438\n",
      "z= 1.4285714285714288 sigmoid= 0.8066786301976914\n",
      "z= 1.8367346938775508 sigmoid= 0.8625620675518455\n",
      "z= 2.2448979591836746 sigmoid= 0.9042095340383491\n",
      "z= 2.6530612244897966 sigmoid= 0.9341994169360547\n",
      "z= 3.0612244897959187 sigmoid= 0.9552646535942638\n",
      "z= 3.4693877551020407 sigmoid= 0.969804094621648\n",
      "z= 3.8775510204081627 sigmoid= 0.9797183981729054\n",
      "z= 4.2857142857142865 sigmoid= 0.9864230830562556\n",
      "z= 4.6938775510204085 sigmoid= 0.9909318505586449\n",
      "z= 5.1020408163265305 sigmoid= 0.9939524781263999\n",
      "z= 5.510204081632654 sigmoid= 0.9959710166415011\n",
      "z= 5.918367346938776 sigmoid= 0.9973176267203683\n",
      "z= 6.326530612244898 sigmoid= 0.9982149649754438\n",
      "z= 6.73469387755102 sigmoid= 0.9988124727921308\n",
      "z= 7.142857142857142 sigmoid= 0.9992101340582635\n",
      "z= 7.551020408163264 sigmoid= 0.9994747025286028\n",
      "z= 7.95918367346939 sigmoid= 0.999650683807661\n",
      "z= 8.367346938775512 sigmoid= 0.9997677228397115\n",
      "z= 8.775510204081634 sigmoid= 0.9998455537876272\n",
      "z= 9.183673469387756 sigmoid= 0.999897307982114\n",
      "z= 9.591836734693878 sigmoid= 0.9999317207753976\n",
      "z= 10.0 sigmoid= 0.9999546021312976\n"
     ]
    },
    {
     "data": {
      "image/png": "[encoded data removed]",
      "text/plain": [
       "<Figure size 640x480 with 1 Axes>"
      ]
     },
     "metadata": {},
     "output_type": "display_data"
    }
   ],
   "source": [
    "for z in np.linspace(-10,10,50):\n",
    "    s = sigmoid(z)\n",
    "    print('z=', z, 'sigmoid=',s)\n",
    "    plt.plot(z, s, 'ro')\n",
    "plt.show()"
   ]
  }
 ],
 "metadata": {
  "kernelspec": {
   "display_name": "Python 3 (ipykernel)",
   "language": "python",
   "name": "python3"
  },
  "language_info": {
   "codemirror_mode": {
    "name": "ipython",
    "version": 3
   },
   "file_extension": ".py",
   "mimetype": "text/x-python",
   "name": "python",
   "nbconvert_exporter": "python",
   "pygments_lexer": "ipython3",
   "version": "3.10.4"
  }
 },
 "nbformat": 4,
 "nbformat_minor": 5
}
