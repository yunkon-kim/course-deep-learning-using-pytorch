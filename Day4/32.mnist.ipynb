{
 "cells": [
  {
   "cell_type": "code",
   "execution_count": 2,
   "id": "8994526d",
   "metadata": {},
   "outputs": [],
   "source": [
    "import torch\n",
    "from torch.optim import Adam\n",
    "from torch.nn import Linear, MSELoss, Sequential, Sigmoid, Softmax, ReLU, Module\n",
    "import numpy as np\n",
    "import pandas as pd\n",
    "import matplotlib.pyplot as plt\n",
    "import torch.nn.functional as F\n",
    "import seaborn as sb\n",
    "\n",
    "from sklearn.preprocessing import MinMaxScaler, StandardScaler\n",
    "from sklearn.datasets import load_iris\n",
    "from sklearn.metrics import confusion_matrix, f1_score, accuracy_score, accuracy_score, precision_score\n",
    "from sklearn.model_selection import train_test_split\n",
    "\n",
    "import matplotlib\n",
    "matplotlib.rcParams['font.family'] = 'Malgun Gothic'\n",
    "matplotlib.rcParams['axes.unicode_minus'] = False"
   ]
  },
  {
   "cell_type": "code",
   "execution_count": 4,
   "id": "1c4860d9",
   "metadata": {},
   "outputs": [],
   "source": [
    "from sklearn.datasets import fetch_openml"
   ]
  },
  {
   "cell_type": "code",
   "execution_count": 5,
   "id": "2d155e05",
   "metadata": {},
   "outputs": [],
   "source": [
    "mnist = fetch_openml('mnist_784') # 손글씨 숫자 이미지"
   ]
  },
  {
   "cell_type": "code",
   "execution_count": 6,
   "id": "074c95cd",
   "metadata": {},
   "outputs": [
    {
     "data": {
      "text/plain": [
       "dict_keys(['data', 'target', 'frame', 'categories', 'feature_names', 'target_names', 'DESCR', 'details', 'url'])"
      ]
     },
     "execution_count": 6,
     "metadata": {},
     "output_type": "execute_result"
    }
   ],
   "source": [
    "mnist.keys()"
   ]
  },
  {
   "cell_type": "code",
   "execution_count": 7,
   "id": "6d16cf0e",
   "metadata": {},
   "outputs": [
    {
     "data": {
      "text/plain": [
       "(70000, 784)"
      ]
     },
     "execution_count": 7,
     "metadata": {},
     "output_type": "execute_result"
    }
   ],
   "source": [
    "mnist['data'].shape"
   ]
  },
  {
   "cell_type": "code",
   "execution_count": 8,
   "id": "af2a7044",
   "metadata": {
    "collapsed": true
   },
   "outputs": [
    {
     "data": {
      "text/plain": [
       "0        5\n",
       "1        0\n",
       "2        4\n",
       "3        1\n",
       "4        9\n",
       "        ..\n",
       "69995    2\n",
       "69996    3\n",
       "69997    4\n",
       "69998    5\n",
       "69999    6\n",
       "Name: class, Length: 70000, dtype: category\n",
       "Categories (10, object): ['0', '1', '2', '3', ..., '6', '7', '8', '9']"
      ]
     },
     "execution_count": 8,
     "metadata": {},
     "output_type": "execute_result"
    }
   ],
   "source": [
    "mnist['target']"
   ]
  },
  {
   "cell_type": "code",
   "execution_count": 9,
   "id": "b9bcf9be",
   "metadata": {},
   "outputs": [
    {
     "data": {
      "text/plain": [
       "784"
      ]
     },
     "execution_count": 9,
     "metadata": {},
     "output_type": "execute_result"
    }
   ],
   "source": [
    "28*28 # 28*28 이미지를 일렬로 만든값"
   ]
  },
  {
   "cell_type": "code",
   "execution_count": 10,
   "id": "982a98d0",
   "metadata": {
    "collapsed": true
   },
   "outputs": [
    {
     "data": {
      "text/plain": [
       "array([  0.,   0.,   0.,   0.,   0.,   0.,   0.,   0.,   0.,   0.,   0.,\n",
       "         0.,   0.,   0.,   0.,   0.,   0.,   0.,   0.,   0.,   0.,   0.,\n",
       "         0.,   0.,   0.,   0.,   0.,   0.,   0.,   0.,   0.,   0.,   0.,\n",
       "         0.,   0.,   0.,   0.,   0.,   0.,   0.,   0.,   0.,   0.,   0.,\n",
       "         0.,   0.,   0.,   0.,   0.,   0.,   0.,   0.,   0.,   0.,   0.,\n",
       "         0.,   0.,   0.,   0.,   0.,   0.,   0.,   0.,   0.,   0.,   0.,\n",
       "         0.,   0.,   0.,   0.,   0.,   0.,   0.,   0.,   0.,   0.,   0.,\n",
       "         0.,   0.,   0.,   0.,   0.,   0.,   0.,   0.,   0.,   0.,   0.,\n",
       "         0.,   0.,   0.,   0.,   0.,   0.,   0.,   0.,   0.,   0.,   0.,\n",
       "         0.,   0.,   0.,   0.,   0.,   0.,   0.,   0.,   0.,   0.,   0.,\n",
       "         0.,   0.,   0.,   0.,   0.,   0.,   0.,   0.,   0.,   0.,   0.,\n",
       "         0.,   0.,   0.,   0.,   0.,   0.,   0.,   0.,   0.,   0.,   0.,\n",
       "         0.,   0.,   0.,   0.,   0.,   0.,   0.,   0.,   0.,   0.,   0.,\n",
       "         0.,   0.,   0.,   0.,   0.,   0.,   0.,   0.,   0.,   3.,  18.,\n",
       "        18.,  18., 126., 136., 175.,  26., 166., 255., 247., 127.,   0.,\n",
       "         0.,   0.,   0.,   0.,   0.,   0.,   0.,   0.,   0.,   0.,   0.,\n",
       "        30.,  36.,  94., 154., 170., 253., 253., 253., 253., 253., 225.,\n",
       "       172., 253., 242., 195.,  64.,   0.,   0.,   0.,   0.,   0.,   0.,\n",
       "         0.,   0.,   0.,   0.,   0.,  49., 238., 253., 253., 253., 253.,\n",
       "       253., 253., 253., 253., 251.,  93.,  82.,  82.,  56.,  39.,   0.,\n",
       "         0.,   0.,   0.,   0.,   0.,   0.,   0.,   0.,   0.,   0.,   0.,\n",
       "        18., 219., 253., 253., 253., 253., 253., 198., 182., 247., 241.,\n",
       "         0.,   0.,   0.,   0.,   0.,   0.,   0.,   0.,   0.,   0.,   0.,\n",
       "         0.,   0.,   0.,   0.,   0.,   0.,   0.,  80., 156., 107., 253.,\n",
       "       253., 205.,  11.,   0.,  43., 154.,   0.,   0.,   0.,   0.,   0.,\n",
       "         0.,   0.,   0.,   0.,   0.,   0.,   0.,   0.,   0.,   0.,   0.,\n",
       "         0.,   0.,   0.,  14.,   1., 154., 253.,  90.,   0.,   0.,   0.,\n",
       "         0.,   0.,   0.,   0.,   0.,   0.,   0.,   0.,   0.,   0.,   0.,\n",
       "         0.,   0.,   0.,   0.,   0.,   0.,   0.,   0.,   0.,   0.,   0.,\n",
       "       139., 253., 190.,   2.,   0.,   0.,   0.,   0.,   0.,   0.,   0.,\n",
       "         0.,   0.,   0.,   0.,   0.,   0.,   0.,   0.,   0.,   0.,   0.,\n",
       "         0.,   0.,   0.,   0.,   0.,   0.,  11., 190., 253.,  70.,   0.,\n",
       "         0.,   0.,   0.,   0.,   0.,   0.,   0.,   0.,   0.,   0.,   0.,\n",
       "         0.,   0.,   0.,   0.,   0.,   0.,   0.,   0.,   0.,   0.,   0.,\n",
       "         0.,   0.,  35., 241., 225., 160., 108.,   1.,   0.,   0.,   0.,\n",
       "         0.,   0.,   0.,   0.,   0.,   0.,   0.,   0.,   0.,   0.,   0.,\n",
       "         0.,   0.,   0.,   0.,   0.,   0.,   0.,   0.,   0.,  81., 240.,\n",
       "       253., 253., 119.,  25.,   0.,   0.,   0.,   0.,   0.,   0.,   0.,\n",
       "         0.,   0.,   0.,   0.,   0.,   0.,   0.,   0.,   0.,   0.,   0.,\n",
       "         0.,   0.,   0.,   0.,   0.,  45., 186., 253., 253., 150.,  27.,\n",
       "         0.,   0.,   0.,   0.,   0.,   0.,   0.,   0.,   0.,   0.,   0.,\n",
       "         0.,   0.,   0.,   0.,   0.,   0.,   0.,   0.,   0.,   0.,   0.,\n",
       "         0.,  16.,  93., 252., 253., 187.,   0.,   0.,   0.,   0.,   0.,\n",
       "         0.,   0.,   0.,   0.,   0.,   0.,   0.,   0.,   0.,   0.,   0.,\n",
       "         0.,   0.,   0.,   0.,   0.,   0.,   0.,   0.,   0., 249., 253.,\n",
       "       249.,  64.,   0.,   0.,   0.,   0.,   0.,   0.,   0.,   0.,   0.,\n",
       "         0.,   0.,   0.,   0.,   0.,   0.,   0.,   0.,   0.,   0.,   0.,\n",
       "         0.,  46., 130., 183., 253., 253., 207.,   2.,   0.,   0.,   0.,\n",
       "         0.,   0.,   0.,   0.,   0.,   0.,   0.,   0.,   0.,   0.,   0.,\n",
       "         0.,   0.,   0.,   0.,   0.,  39., 148., 229., 253., 253., 253.,\n",
       "       250., 182.,   0.,   0.,   0.,   0.,   0.,   0.,   0.,   0.,   0.,\n",
       "         0.,   0.,   0.,   0.,   0.,   0.,   0.,   0.,   0.,  24., 114.,\n",
       "       221., 253., 253., 253., 253., 201.,  78.,   0.,   0.,   0.,   0.,\n",
       "         0.,   0.,   0.,   0.,   0.,   0.,   0.,   0.,   0.,   0.,   0.,\n",
       "         0.,   0.,  23.,  66., 213., 253., 253., 253., 253., 198.,  81.,\n",
       "         2.,   0.,   0.,   0.,   0.,   0.,   0.,   0.,   0.,   0.,   0.,\n",
       "         0.,   0.,   0.,   0.,   0.,   0.,  18., 171., 219., 253., 253.,\n",
       "       253., 253., 195.,  80.,   9.,   0.,   0.,   0.,   0.,   0.,   0.,\n",
       "         0.,   0.,   0.,   0.,   0.,   0.,   0.,   0.,   0.,   0.,  55.,\n",
       "       172., 226., 253., 253., 253., 253., 244., 133.,  11.,   0.,   0.,\n",
       "         0.,   0.,   0.,   0.,   0.,   0.,   0.,   0.,   0.,   0.,   0.,\n",
       "         0.,   0.,   0.,   0.,   0., 136., 253., 253., 253., 212., 135.,\n",
       "       132.,  16.,   0.,   0.,   0.,   0.,   0.,   0.,   0.,   0.,   0.,\n",
       "         0.,   0.,   0.,   0.,   0.,   0.,   0.,   0.,   0.,   0.,   0.,\n",
       "         0.,   0.,   0.,   0.,   0.,   0.,   0.,   0.,   0.,   0.,   0.,\n",
       "         0.,   0.,   0.,   0.,   0.,   0.,   0.,   0.,   0.,   0.,   0.,\n",
       "         0.,   0.,   0.,   0.,   0.,   0.,   0.,   0.,   0.,   0.,   0.,\n",
       "         0.,   0.,   0.,   0.,   0.,   0.,   0.,   0.,   0.,   0.,   0.,\n",
       "         0.,   0.,   0.,   0.,   0.,   0.,   0.,   0.,   0.,   0.,   0.,\n",
       "         0.,   0.,   0.,   0.,   0.,   0.,   0.,   0.,   0.,   0.,   0.,\n",
       "         0.,   0.,   0.,   0.,   0.,   0.,   0.,   0.,   0.,   0.,   0.,\n",
       "         0.,   0.,   0.])"
      ]
     },
     "execution_count": 10,
     "metadata": {},
     "output_type": "execute_result"
    }
   ],
   "source": [
    "mnist['data'].values[0]"
   ]
  },
  {
   "cell_type": "code",
   "execution_count": 17,
   "id": "95b151c3",
   "metadata": {},
   "outputs": [],
   "source": [
    "x_data = (mnist['data']/255).values ## 정규화 흑백 색상이므로 255로 나누면 0~1사이 값이 됨 --> numpy()\n",
    "y_data = pd.get_dummies(mnist['target']).values # 0~9를 one-hot encoding"
   ]
  },
  {
   "cell_type": "code",
   "execution_count": 18,
   "id": "e730a25e",
   "metadata": {},
   "outputs": [],
   "source": [
    "x_train, x_test, y_train, y_test = train_test_split(x_data, y_data, train_size=0.3, stratify=y_data)"
   ]
  },
  {
   "cell_type": "code",
   "execution_count": 20,
   "id": "a3ce932b",
   "metadata": {},
   "outputs": [
    {
     "data": {
      "text/plain": [
       "(784,)"
      ]
     },
     "execution_count": 20,
     "metadata": {},
     "output_type": "execute_result"
    }
   ],
   "source": [
    "x_train[0].shape"
   ]
  },
  {
   "cell_type": "code",
   "execution_count": 22,
   "id": "347797f8",
   "metadata": {},
   "outputs": [
    {
     "data": {
      "image/png": "[encoded data removed]",
      "text/plain": [
       "<Figure size 640x480 with 1 Axes>"
      ]
     },
     "metadata": {},
     "output_type": "display_data"
    }
   ],
   "source": [
    "plt.imshow(x_train[0].reshape(28,28), cmap='gray')\n",
    "plt.show()"
   ]
  },
  {
   "cell_type": "code",
   "execution_count": 23,
   "id": "84c11688",
   "metadata": {},
   "outputs": [],
   "source": [
    "x = torch.FloatTensor(x_train)\n",
    "y = torch.FloatTensor(y_train)"
   ]
  },
  {
   "cell_type": "code",
   "execution_count": 27,
   "id": "b386b47a",
   "metadata": {},
   "outputs": [],
   "source": [
    "feature_len = x.shape[1]\n",
    "label_len = y.shape[1]"
   ]
  },
  {
   "cell_type": "code",
   "execution_count": 38,
   "id": "23ea3e5b",
   "metadata": {},
   "outputs": [],
   "source": [
    "model = Sequential()\n",
    "model.add_module('nn1', Linear(feature_len, 32)) # w:[8,1] b:[1]\n",
    "model.add_module('sig1', ReLU()) # 활성함수\n",
    "model.add_module('nn2', Linear(32,label_len)) # w:[8,1] b:[1]\n",
    "model.add_module('sig2', Softmax(dim=1)) # 활성함수\n",
    "\n",
    "loss_fn = torch.nn.CrossEntropyLoss()"
   ]
  },
  {
   "cell_type": "code",
   "execution_count": 39,
   "id": "f4d82052",
   "metadata": {
    "collapsed": true
   },
   "outputs": [
    {
     "name": "stdout",
     "output_type": "stream",
     "text": [
      "----------------------------\n",
      "정확도 0.11638095238095238\n",
      "0 2.3027164936065674\n",
      "----------------------------\n",
      "정확도 0.24095238095238095\n",
      "1 2.267085552215576\n",
      "----------------------------\n",
      "정확도 0.28585714285714287\n",
      "2 2.2111387252807617\n",
      "----------------------------\n",
      "정확도 0.3564761904761905\n",
      "3 2.1559276580810547\n",
      "----------------------------\n",
      "정확도 0.49942857142857144\n",
      "4 2.0925283432006836\n",
      "----------------------------\n",
      "정확도 0.6608571428571428\n",
      "5 2.0237722396850586\n",
      "----------------------------\n",
      "정확도 0.7198571428571429\n",
      "6 1.9568852186203003\n",
      "----------------------------\n",
      "정확도 0.7421428571428571\n",
      "7 1.8948169946670532\n",
      "----------------------------\n",
      "정확도 0.7548571428571429\n",
      "8 1.8422985076904297\n",
      "----------------------------\n",
      "정확도 0.7628571428571429\n",
      "9 1.7990800142288208\n",
      "----------------------------\n",
      "정확도 0.7706190476190476\n",
      "10 1.7660681009292603\n",
      "----------------------------\n",
      "정확도 0.7807142857142857\n",
      "11 1.7403285503387451\n",
      "----------------------------\n",
      "정확도 0.7986190476190477\n",
      "12 1.7154943943023682\n",
      "----------------------------\n",
      "정확도 0.812952380952381\n",
      "13 1.6941174268722534\n",
      "----------------------------\n",
      "정확도 0.8282857142857143\n",
      "14 1.6744041442871094\n",
      "----------------------------\n",
      "정확도 0.8351428571428572\n",
      "15 1.6619527339935303\n",
      "----------------------------\n",
      "정확도 0.8395714285714285\n",
      "16 1.653902530670166\n",
      "----------------------------\n",
      "정확도 0.8490952380952381\n",
      "17 1.6416298151016235\n",
      "----------------------------\n",
      "정확도 0.8583333333333333\n",
      "18 1.6299843788146973\n",
      "----------------------------\n",
      "정확도 0.8651904761904762\n",
      "19 1.6219404935836792\n",
      "----------------------------\n",
      "정확도 0.8702380952380953\n",
      "20 1.6144990921020508\n",
      "----------------------------\n",
      "정확도 0.8744761904761905\n",
      "21 1.6071430444717407\n",
      "----------------------------\n",
      "정확도 0.8791904761904762\n",
      "22 1.6008703708648682\n",
      "----------------------------\n",
      "정확도 0.8838571428571429\n",
      "23 1.595912218093872\n",
      "----------------------------\n",
      "정확도 0.8879523809523809\n",
      "24 1.5916203260421753\n",
      "----------------------------\n",
      "정확도 0.891\n",
      "25 1.5873230695724487\n",
      "----------------------------\n",
      "정확도 0.8942380952380953\n",
      "26 1.5832494497299194\n",
      "----------------------------\n",
      "정확도 0.8976190476190476\n",
      "27 1.5799334049224854\n",
      "----------------------------\n",
      "정확도 0.8980476190476191\n",
      "28 1.577231526374817\n",
      "----------------------------\n",
      "정확도 0.8988571428571429\n",
      "29 1.5748906135559082\n",
      "----------------------------\n",
      "정확도 0.9002857142857142\n",
      "30 1.5727325677871704\n",
      "----------------------------\n",
      "정확도 0.9023333333333333\n",
      "31 1.5705959796905518\n",
      "----------------------------\n",
      "정확도 0.9042857142857142\n",
      "32 1.5684328079223633\n",
      "----------------------------\n",
      "정확도 0.9061428571428571\n",
      "33 1.5664066076278687\n",
      "----------------------------\n",
      "정확도 0.9068571428571428\n",
      "34 1.5646196603775024\n",
      "----------------------------\n",
      "정확도 0.9086666666666666\n",
      "35 1.5629910230636597\n",
      "----------------------------\n",
      "정확도 0.909952380952381\n",
      "36 1.5614410638809204\n",
      "----------------------------\n",
      "정확도 0.9109047619047619\n",
      "37 1.559930443763733\n",
      "----------------------------\n",
      "정확도 0.9125238095238095\n",
      "38 1.5584522485733032\n",
      "----------------------------\n",
      "정확도 0.9133809523809524\n",
      "39 1.557068109512329\n",
      "----------------------------\n",
      "정확도 0.9143809523809524\n",
      "40 1.555812954902649\n",
      "----------------------------\n",
      "정확도 0.9158095238095239\n",
      "41 1.5545889139175415\n",
      "----------------------------\n",
      "정확도 0.916952380952381\n",
      "42 1.553375244140625\n",
      "----------------------------\n",
      "정확도 0.9178571428571428\n",
      "43 1.5522710084915161\n",
      "----------------------------\n",
      "정확도 0.9184285714285715\n",
      "44 1.5512821674346924\n",
      "----------------------------\n",
      "정확도 0.9193809523809524\n",
      "45 1.5503199100494385\n",
      "----------------------------\n",
      "정확도 0.9200952380952381\n",
      "46 1.549355387687683\n",
      "----------------------------\n",
      "정확도 0.9211904761904762\n",
      "47 1.5484182834625244\n",
      "----------------------------\n",
      "정확도 0.9215238095238095\n",
      "48 1.5475211143493652\n",
      "----------------------------\n",
      "정확도 0.9226666666666666\n",
      "49 1.5466684103012085\n",
      "----------------------------\n",
      "정확도 0.9234761904761905\n",
      "50 1.545839786529541\n",
      "----------------------------\n",
      "정확도 0.9238571428571428\n",
      "51 1.5450035333633423\n",
      "----------------------------\n",
      "정확도 0.9247142857142857\n",
      "52 1.5441769361495972\n",
      "----------------------------\n",
      "정확도 0.9254285714285714\n",
      "53 1.5433862209320068\n",
      "----------------------------\n",
      "정확도 0.9262380952380952\n",
      "54 1.5426380634307861\n",
      "----------------------------\n",
      "정확도 0.9264761904761905\n",
      "55 1.5419206619262695\n",
      "----------------------------\n",
      "정확도 0.9271904761904762\n",
      "56 1.5412055253982544\n",
      "----------------------------\n",
      "정확도 0.928047619047619\n",
      "57 1.5404874086380005\n",
      "----------------------------\n",
      "정확도 0.9288571428571428\n",
      "58 1.539803147315979\n",
      "----------------------------\n",
      "정확도 0.9295238095238095\n",
      "59 1.5391594171524048\n",
      "----------------------------\n",
      "정확도 0.9299047619047619\n",
      "60 1.5385302305221558\n",
      "----------------------------\n",
      "정확도 0.9308571428571428\n",
      "61 1.537905216217041\n",
      "----------------------------\n",
      "정확도 0.9313809523809524\n",
      "62 1.5372899770736694\n",
      "----------------------------\n",
      "정확도 0.932047619047619\n",
      "63 1.53670334815979\n",
      "----------------------------\n",
      "정확도 0.9326190476190476\n",
      "64 1.5361443758010864\n",
      "----------------------------\n",
      "정확도 0.9332380952380952\n",
      "65 1.5355896949768066\n",
      "----------------------------\n",
      "정확도 0.9335238095238095\n",
      "66 1.5350347757339478\n",
      "----------------------------\n",
      "정확도 0.9342857142857143\n",
      "67 1.534494400024414\n",
      "----------------------------\n",
      "정확도 0.9348095238095238\n",
      "68 1.5339792966842651\n",
      "----------------------------\n",
      "정확도 0.9353333333333333\n",
      "69 1.5334787368774414\n",
      "----------------------------\n",
      "정확도 0.9357142857142857\n",
      "70 1.5329725742340088\n",
      "----------------------------\n",
      "정확도 0.9360952380952381\n",
      "71 1.532470464706421\n",
      "----------------------------\n",
      "정확도 0.9365714285714286\n",
      "72 1.5319850444793701\n",
      "----------------------------\n",
      "정확도 0.9370952380952381\n",
      "73 1.5315096378326416\n",
      "----------------------------\n",
      "정확도 0.9374761904761905\n",
      "74 1.5310382843017578\n",
      "----------------------------\n",
      "정확도 0.9379047619047619\n",
      "75 1.5305742025375366\n",
      "----------------------------\n",
      "정확도 0.9381904761904762\n",
      "76 1.5301216840744019\n",
      "----------------------------\n",
      "정확도 0.9387619047619048\n",
      "77 1.5296814441680908\n",
      "----------------------------\n",
      "정확도 0.9393809523809524\n",
      "78 1.5292479991912842\n",
      "----------------------------\n",
      "정확도 0.94\n",
      "79 1.5288231372833252\n",
      "----------------------------\n",
      "정확도 0.9403809523809524\n",
      "80 1.5284087657928467\n",
      "----------------------------\n",
      "정확도 0.9408095238095238\n",
      "81 1.5280057191848755\n",
      "----------------------------\n",
      "정확도 0.9413809523809524\n",
      "82 1.527608871459961\n",
      "----------------------------\n",
      "정확도 0.9416190476190476\n",
      "83 1.5272152423858643\n",
      "----------------------------\n",
      "정확도 0.9418571428571428\n",
      "84 1.52682626247406\n",
      "----------------------------\n",
      "정확도 0.9422857142857143\n",
      "85 1.5264428853988647\n",
      "----------------------------\n",
      "정확도 0.9426190476190476\n",
      "86 1.526064157485962\n",
      "----------------------------\n",
      "정확도 0.9426666666666667\n",
      "87 1.5256882905960083\n",
      "----------------------------\n",
      "정확도 0.943\n",
      "88 1.5253164768218994\n",
      "----------------------------\n",
      "정확도 0.9435714285714286\n",
      "89 1.524949550628662\n",
      "----------------------------\n",
      "정확도 0.944\n",
      "90 1.5245856046676636\n",
      "----------------------------\n",
      "정확도 0.9444285714285714\n",
      "91 1.52422297000885\n",
      "----------------------------\n",
      "정확도 0.9450952380952381\n",
      "92 1.5238627195358276\n",
      "----------------------------\n",
      "정확도 0.9456190476190476\n",
      "93 1.523504376411438\n",
      "----------------------------\n",
      "정확도 0.9458571428571428\n",
      "94 1.523147463798523\n",
      "----------------------------\n",
      "정확도 0.945952380952381\n",
      "95 1.5227935314178467\n",
      "----------------------------\n",
      "정확도 0.9460952380952381\n",
      "96 1.5224418640136719\n",
      "----------------------------\n",
      "정확도 0.9464761904761905\n",
      "97 1.5220924615859985\n",
      "----------------------------\n",
      "정확도 0.946952380952381\n",
      "98 1.521746039390564\n",
      "----------------------------\n",
      "정확도 0.947\n",
      "99 1.5214033126831055\n"
     ]
    }
   ],
   "source": [
    "optimizer = Adam(model.parameters(), lr=0.01)\n",
    "hist=[]\n",
    "for epoch in range(100):\n",
    "    optimizer.zero_grad()\n",
    "    hx = model.forward(x) \n",
    "    # z = torch.matmul(x,w)+b\n",
    "    # hx = Sigmoid(z)\n",
    "    cost = loss_fn(hx,y)\n",
    "    cost.backward()\n",
    "    optimizer.step()\n",
    "    print('----------------------------')\n",
    "    rdata = y.argmax(dim=1).numpy()\n",
    "    pred = hx.argmax(dim=1).numpy()\n",
    "    print('정확도', accuracy_score(rdata, pred))    \n",
    "    print(epoch, cost.item())\n",
    "    hist.append(cost.item())"
   ]
  },
  {
   "cell_type": "code",
   "execution_count": 36,
   "id": "f2b39248",
   "metadata": {
    "collapsed": true
   },
   "outputs": [
    {
     "data": {
      "image/png": "[encoded data removed]",
      "text/plain": [
       "<Figure size 640x480 with 1 Axes>"
      ]
     },
     "metadata": {},
     "output_type": "display_data"
    }
   ],
   "source": [
    "plt.plot(hist)\n",
    "plt.show()"
   ]
  },
  {
   "cell_type": "code",
   "execution_count": 40,
   "id": "e8f146f0",
   "metadata": {},
   "outputs": [
    {
     "data": {
      "image/png": "[encoded data removed]",
      "text/plain": [
       "<Figure size 640x480 with 1 Axes>"
      ]
     },
     "metadata": {},
     "output_type": "display_data"
    }
   ],
   "source": [
    "plt.imshow(x_test[0].reshape(28,28), cmap='gray')\n",
    "plt.show()"
   ]
  },
  {
   "cell_type": "code",
   "execution_count": 43,
   "id": "fa43d79d",
   "metadata": {},
   "outputs": [
    {
     "data": {
      "text/plain": [
       "tensor([7])"
      ]
     },
     "execution_count": 43,
     "metadata": {},
     "output_type": "execute_result"
    }
   ],
   "source": [
    "model(torch.FloatTensor(x_test[0].reshape(1,784))).argmax(dim=1)"
   ]
  },
  {
   "cell_type": "code",
   "execution_count": 54,
   "id": "ad1cb989",
   "metadata": {},
   "outputs": [
    {
     "data": {
      "text/plain": [
       "array([7, 9, 9, ..., 0, 1, 1], dtype=int64)"
      ]
     },
     "execution_count": 54,
     "metadata": {},
     "output_type": "execute_result"
    }
   ],
   "source": [
    "pred_train = model(torch.FloatTensor(x_test)).argmax(dim=1).numpy()\n",
    "pred_train"
   ]
  },
  {
   "cell_type": "code",
   "execution_count": 56,
   "id": "e3ddb05f",
   "metadata": {},
   "outputs": [],
   "source": [
    "label_train = y.argmax(dim=1).numpy()"
   ]
  },
  {
   "cell_type": "code",
   "execution_count": 57,
   "id": "d787ab66",
   "metadata": {
    "scrolled": true
   },
   "outputs": [
    {
     "ename": "ValueError",
     "evalue": "Found input variables with inconsistent numbers of samples: [21000, 49000]",
     "output_type": "error",
     "traceback": [
      "\u001b[1;31m---------------------------------------------------------------------------\u001b[0m",
      "\u001b[1;31mValueError\u001b[0m                                Traceback (most recent call last)",
      "Input \u001b[1;32mIn [57]\u001b[0m, in \u001b[0;36m<cell line: 1>\u001b[1;34m()\u001b[0m\n\u001b[1;32m----> 1\u001b[0m \u001b[43mf1_score\u001b[49m\u001b[43m(\u001b[49m\u001b[43mlabel_train\u001b[49m\u001b[43m,\u001b[49m\u001b[43m \u001b[49m\u001b[43mpred_train\u001b[49m\u001b[43m)\u001b[49m\n",
      "File \u001b[1;32mC:\\ProgramData\\Anaconda3\\envs\\torchtest\\lib\\site-packages\\sklearn\\metrics\\_classification.py:1136\u001b[0m, in \u001b[0;36mf1_score\u001b[1;34m(y_true, y_pred, labels, pos_label, average, sample_weight, zero_division)\u001b[0m\n\u001b[0;32m   1001\u001b[0m \u001b[38;5;28;01mdef\u001b[39;00m \u001b[38;5;21mf1_score\u001b[39m(\n\u001b[0;32m   1002\u001b[0m     y_true,\n\u001b[0;32m   1003\u001b[0m     y_pred,\n\u001b[1;32m   (...)\u001b[0m\n\u001b[0;32m   1009\u001b[0m     zero_division\u001b[38;5;241m=\u001b[39m\u001b[38;5;124m\"\u001b[39m\u001b[38;5;124mwarn\u001b[39m\u001b[38;5;124m\"\u001b[39m,\n\u001b[0;32m   1010\u001b[0m ):\n\u001b[0;32m   1011\u001b[0m     \u001b[38;5;124;03m\"\"\"Compute the F1 score, also known as balanced F-score or F-measure.\u001b[39;00m\n\u001b[0;32m   1012\u001b[0m \n\u001b[0;32m   1013\u001b[0m \u001b[38;5;124;03m    The F1 score can be interpreted as a harmonic mean of the precision and\u001b[39;00m\n\u001b[1;32m   (...)\u001b[0m\n\u001b[0;32m   1134\u001b[0m \u001b[38;5;124;03m    array([0.66666667, 1.        , 0.66666667])\u001b[39;00m\n\u001b[0;32m   1135\u001b[0m \u001b[38;5;124;03m    \"\"\"\u001b[39;00m\n\u001b[1;32m-> 1136\u001b[0m     \u001b[38;5;28;01mreturn\u001b[39;00m \u001b[43mfbeta_score\u001b[49m\u001b[43m(\u001b[49m\n\u001b[0;32m   1137\u001b[0m \u001b[43m        \u001b[49m\u001b[43my_true\u001b[49m\u001b[43m,\u001b[49m\n\u001b[0;32m   1138\u001b[0m \u001b[43m        \u001b[49m\u001b[43my_pred\u001b[49m\u001b[43m,\u001b[49m\n\u001b[0;32m   1139\u001b[0m \u001b[43m        \u001b[49m\u001b[43mbeta\u001b[49m\u001b[38;5;241;43m=\u001b[39;49m\u001b[38;5;241;43m1\u001b[39;49m\u001b[43m,\u001b[49m\n\u001b[0;32m   1140\u001b[0m \u001b[43m        \u001b[49m\u001b[43mlabels\u001b[49m\u001b[38;5;241;43m=\u001b[39;49m\u001b[43mlabels\u001b[49m\u001b[43m,\u001b[49m\n\u001b[0;32m   1141\u001b[0m \u001b[43m        \u001b[49m\u001b[43mpos_label\u001b[49m\u001b[38;5;241;43m=\u001b[39;49m\u001b[43mpos_label\u001b[49m\u001b[43m,\u001b[49m\n\u001b[0;32m   1142\u001b[0m \u001b[43m        \u001b[49m\u001b[43maverage\u001b[49m\u001b[38;5;241;43m=\u001b[39;49m\u001b[43maverage\u001b[49m\u001b[43m,\u001b[49m\n\u001b[0;32m   1143\u001b[0m \u001b[43m        \u001b[49m\u001b[43msample_weight\u001b[49m\u001b[38;5;241;43m=\u001b[39;49m\u001b[43msample_weight\u001b[49m\u001b[43m,\u001b[49m\n\u001b[0;32m   1144\u001b[0m \u001b[43m        \u001b[49m\u001b[43mzero_division\u001b[49m\u001b[38;5;241;43m=\u001b[39;49m\u001b[43mzero_division\u001b[49m\u001b[43m,\u001b[49m\n\u001b[0;32m   1145\u001b[0m \u001b[43m    \u001b[49m\u001b[43m)\u001b[49m\n",
      "File \u001b[1;32mC:\\ProgramData\\Anaconda3\\envs\\torchtest\\lib\\site-packages\\sklearn\\metrics\\_classification.py:1277\u001b[0m, in \u001b[0;36mfbeta_score\u001b[1;34m(y_true, y_pred, beta, labels, pos_label, average, sample_weight, zero_division)\u001b[0m\n\u001b[0;32m   1148\u001b[0m \u001b[38;5;28;01mdef\u001b[39;00m \u001b[38;5;21mfbeta_score\u001b[39m(\n\u001b[0;32m   1149\u001b[0m     y_true,\n\u001b[0;32m   1150\u001b[0m     y_pred,\n\u001b[1;32m   (...)\u001b[0m\n\u001b[0;32m   1157\u001b[0m     zero_division\u001b[38;5;241m=\u001b[39m\u001b[38;5;124m\"\u001b[39m\u001b[38;5;124mwarn\u001b[39m\u001b[38;5;124m\"\u001b[39m,\n\u001b[0;32m   1158\u001b[0m ):\n\u001b[0;32m   1159\u001b[0m     \u001b[38;5;124;03m\"\"\"Compute the F-beta score.\u001b[39;00m\n\u001b[0;32m   1160\u001b[0m \n\u001b[0;32m   1161\u001b[0m \u001b[38;5;124;03m    The F-beta score is the weighted harmonic mean of precision and recall,\u001b[39;00m\n\u001b[1;32m   (...)\u001b[0m\n\u001b[0;32m   1274\u001b[0m \u001b[38;5;124;03m    array([0.71..., 0.        , 0.        ])\u001b[39;00m\n\u001b[0;32m   1275\u001b[0m \u001b[38;5;124;03m    \"\"\"\u001b[39;00m\n\u001b[1;32m-> 1277\u001b[0m     _, _, f, _ \u001b[38;5;241m=\u001b[39m \u001b[43mprecision_recall_fscore_support\u001b[49m\u001b[43m(\u001b[49m\n\u001b[0;32m   1278\u001b[0m \u001b[43m        \u001b[49m\u001b[43my_true\u001b[49m\u001b[43m,\u001b[49m\n\u001b[0;32m   1279\u001b[0m \u001b[43m        \u001b[49m\u001b[43my_pred\u001b[49m\u001b[43m,\u001b[49m\n\u001b[0;32m   1280\u001b[0m \u001b[43m        \u001b[49m\u001b[43mbeta\u001b[49m\u001b[38;5;241;43m=\u001b[39;49m\u001b[43mbeta\u001b[49m\u001b[43m,\u001b[49m\n\u001b[0;32m   1281\u001b[0m \u001b[43m        \u001b[49m\u001b[43mlabels\u001b[49m\u001b[38;5;241;43m=\u001b[39;49m\u001b[43mlabels\u001b[49m\u001b[43m,\u001b[49m\n\u001b[0;32m   1282\u001b[0m \u001b[43m        \u001b[49m\u001b[43mpos_label\u001b[49m\u001b[38;5;241;43m=\u001b[39;49m\u001b[43mpos_label\u001b[49m\u001b[43m,\u001b[49m\n\u001b[0;32m   1283\u001b[0m \u001b[43m        \u001b[49m\u001b[43maverage\u001b[49m\u001b[38;5;241;43m=\u001b[39;49m\u001b[43maverage\u001b[49m\u001b[43m,\u001b[49m\n\u001b[0;32m   1284\u001b[0m \u001b[43m        \u001b[49m\u001b[43mwarn_for\u001b[49m\u001b[38;5;241;43m=\u001b[39;49m\u001b[43m(\u001b[49m\u001b[38;5;124;43m\"\u001b[39;49m\u001b[38;5;124;43mf-score\u001b[39;49m\u001b[38;5;124;43m\"\u001b[39;49m\u001b[43m,\u001b[49m\u001b[43m)\u001b[49m\u001b[43m,\u001b[49m\n\u001b[0;32m   1285\u001b[0m \u001b[43m        \u001b[49m\u001b[43msample_weight\u001b[49m\u001b[38;5;241;43m=\u001b[39;49m\u001b[43msample_weight\u001b[49m\u001b[43m,\u001b[49m\n\u001b[0;32m   1286\u001b[0m \u001b[43m        \u001b[49m\u001b[43mzero_division\u001b[49m\u001b[38;5;241;43m=\u001b[39;49m\u001b[43mzero_division\u001b[49m\u001b[43m,\u001b[49m\n\u001b[0;32m   1287\u001b[0m \u001b[43m    \u001b[49m\u001b[43m)\u001b[49m\n\u001b[0;32m   1288\u001b[0m     \u001b[38;5;28;01mreturn\u001b[39;00m f\n",
      "File \u001b[1;32mC:\\ProgramData\\Anaconda3\\envs\\torchtest\\lib\\site-packages\\sklearn\\metrics\\_classification.py:1563\u001b[0m, in \u001b[0;36mprecision_recall_fscore_support\u001b[1;34m(y_true, y_pred, beta, labels, pos_label, average, warn_for, sample_weight, zero_division)\u001b[0m\n\u001b[0;32m   1561\u001b[0m \u001b[38;5;28;01mif\u001b[39;00m beta \u001b[38;5;241m<\u001b[39m \u001b[38;5;241m0\u001b[39m:\n\u001b[0;32m   1562\u001b[0m     \u001b[38;5;28;01mraise\u001b[39;00m \u001b[38;5;167;01mValueError\u001b[39;00m(\u001b[38;5;124m\"\u001b[39m\u001b[38;5;124mbeta should be >=0 in the F-beta score\u001b[39m\u001b[38;5;124m\"\u001b[39m)\n\u001b[1;32m-> 1563\u001b[0m labels \u001b[38;5;241m=\u001b[39m \u001b[43m_check_set_wise_labels\u001b[49m\u001b[43m(\u001b[49m\u001b[43my_true\u001b[49m\u001b[43m,\u001b[49m\u001b[43m \u001b[49m\u001b[43my_pred\u001b[49m\u001b[43m,\u001b[49m\u001b[43m \u001b[49m\u001b[43maverage\u001b[49m\u001b[43m,\u001b[49m\u001b[43m \u001b[49m\u001b[43mlabels\u001b[49m\u001b[43m,\u001b[49m\u001b[43m \u001b[49m\u001b[43mpos_label\u001b[49m\u001b[43m)\u001b[49m\n\u001b[0;32m   1565\u001b[0m \u001b[38;5;66;03m# Calculate tp_sum, pred_sum, true_sum ###\u001b[39;00m\n\u001b[0;32m   1566\u001b[0m samplewise \u001b[38;5;241m=\u001b[39m average \u001b[38;5;241m==\u001b[39m \u001b[38;5;124m\"\u001b[39m\u001b[38;5;124msamples\u001b[39m\u001b[38;5;124m\"\u001b[39m\n",
      "File \u001b[1;32mC:\\ProgramData\\Anaconda3\\envs\\torchtest\\lib\\site-packages\\sklearn\\metrics\\_classification.py:1364\u001b[0m, in \u001b[0;36m_check_set_wise_labels\u001b[1;34m(y_true, y_pred, average, labels, pos_label)\u001b[0m\n\u001b[0;32m   1361\u001b[0m \u001b[38;5;28;01mif\u001b[39;00m average \u001b[38;5;129;01mnot\u001b[39;00m \u001b[38;5;129;01min\u001b[39;00m average_options \u001b[38;5;129;01mand\u001b[39;00m average \u001b[38;5;241m!=\u001b[39m \u001b[38;5;124m\"\u001b[39m\u001b[38;5;124mbinary\u001b[39m\u001b[38;5;124m\"\u001b[39m:\n\u001b[0;32m   1362\u001b[0m     \u001b[38;5;28;01mraise\u001b[39;00m \u001b[38;5;167;01mValueError\u001b[39;00m(\u001b[38;5;124m\"\u001b[39m\u001b[38;5;124maverage has to be one of \u001b[39m\u001b[38;5;124m\"\u001b[39m \u001b[38;5;241m+\u001b[39m \u001b[38;5;28mstr\u001b[39m(average_options))\n\u001b[1;32m-> 1364\u001b[0m y_type, y_true, y_pred \u001b[38;5;241m=\u001b[39m \u001b[43m_check_targets\u001b[49m\u001b[43m(\u001b[49m\u001b[43my_true\u001b[49m\u001b[43m,\u001b[49m\u001b[43m \u001b[49m\u001b[43my_pred\u001b[49m\u001b[43m)\u001b[49m\n\u001b[0;32m   1365\u001b[0m \u001b[38;5;66;03m# Convert to Python primitive type to avoid NumPy type / Python str\u001b[39;00m\n\u001b[0;32m   1366\u001b[0m \u001b[38;5;66;03m# comparison. See https://github.com/numpy/numpy/issues/6784\u001b[39;00m\n\u001b[0;32m   1367\u001b[0m present_labels \u001b[38;5;241m=\u001b[39m unique_labels(y_true, y_pred)\u001b[38;5;241m.\u001b[39mtolist()\n",
      "File \u001b[1;32mC:\\ProgramData\\Anaconda3\\envs\\torchtest\\lib\\site-packages\\sklearn\\metrics\\_classification.py:84\u001b[0m, in \u001b[0;36m_check_targets\u001b[1;34m(y_true, y_pred)\u001b[0m\n\u001b[0;32m     57\u001b[0m \u001b[38;5;28;01mdef\u001b[39;00m \u001b[38;5;21m_check_targets\u001b[39m(y_true, y_pred):\n\u001b[0;32m     58\u001b[0m     \u001b[38;5;124;03m\"\"\"Check that y_true and y_pred belong to the same classification task.\u001b[39;00m\n\u001b[0;32m     59\u001b[0m \n\u001b[0;32m     60\u001b[0m \u001b[38;5;124;03m    This converts multiclass or binary types to a common shape, and raises a\u001b[39;00m\n\u001b[1;32m   (...)\u001b[0m\n\u001b[0;32m     82\u001b[0m \u001b[38;5;124;03m    y_pred : array or indicator matrix\u001b[39;00m\n\u001b[0;32m     83\u001b[0m \u001b[38;5;124;03m    \"\"\"\u001b[39;00m\n\u001b[1;32m---> 84\u001b[0m     \u001b[43mcheck_consistent_length\u001b[49m\u001b[43m(\u001b[49m\u001b[43my_true\u001b[49m\u001b[43m,\u001b[49m\u001b[43m \u001b[49m\u001b[43my_pred\u001b[49m\u001b[43m)\u001b[49m\n\u001b[0;32m     85\u001b[0m     type_true \u001b[38;5;241m=\u001b[39m type_of_target(y_true, input_name\u001b[38;5;241m=\u001b[39m\u001b[38;5;124m\"\u001b[39m\u001b[38;5;124my_true\u001b[39m\u001b[38;5;124m\"\u001b[39m)\n\u001b[0;32m     86\u001b[0m     type_pred \u001b[38;5;241m=\u001b[39m type_of_target(y_pred, input_name\u001b[38;5;241m=\u001b[39m\u001b[38;5;124m\"\u001b[39m\u001b[38;5;124my_pred\u001b[39m\u001b[38;5;124m\"\u001b[39m)\n",
      "File \u001b[1;32mC:\\ProgramData\\Anaconda3\\envs\\torchtest\\lib\\site-packages\\sklearn\\utils\\validation.py:387\u001b[0m, in \u001b[0;36mcheck_consistent_length\u001b[1;34m(*arrays)\u001b[0m\n\u001b[0;32m    385\u001b[0m uniques \u001b[38;5;241m=\u001b[39m np\u001b[38;5;241m.\u001b[39munique(lengths)\n\u001b[0;32m    386\u001b[0m \u001b[38;5;28;01mif\u001b[39;00m \u001b[38;5;28mlen\u001b[39m(uniques) \u001b[38;5;241m>\u001b[39m \u001b[38;5;241m1\u001b[39m:\n\u001b[1;32m--> 387\u001b[0m     \u001b[38;5;28;01mraise\u001b[39;00m \u001b[38;5;167;01mValueError\u001b[39;00m(\n\u001b[0;32m    388\u001b[0m         \u001b[38;5;124m\"\u001b[39m\u001b[38;5;124mFound input variables with inconsistent numbers of samples: \u001b[39m\u001b[38;5;132;01m%r\u001b[39;00m\u001b[38;5;124m\"\u001b[39m\n\u001b[0;32m    389\u001b[0m         \u001b[38;5;241m%\u001b[39m [\u001b[38;5;28mint\u001b[39m(l) \u001b[38;5;28;01mfor\u001b[39;00m l \u001b[38;5;129;01min\u001b[39;00m lengths]\n\u001b[0;32m    390\u001b[0m     )\n",
      "\u001b[1;31mValueError\u001b[0m: Found input variables with inconsistent numbers of samples: [21000, 49000]"
     ]
    }
   ],
   "source": [
    "f1_score(label_train, pred_train)"
   ]
  },
  {
   "cell_type": "code",
   "execution_count": null,
   "id": "d8c1d809",
   "metadata": {},
   "outputs": [],
   "source": []
  }
 ],
 "metadata": {
  "kernelspec": {
   "display_name": "Python 3 (ipykernel)",
   "language": "python",
   "name": "python3"
  },
  "language_info": {
   "codemirror_mode": {
    "name": "ipython",
    "version": 3
   },
   "file_extension": ".py",
   "mimetype": "text/x-python",
   "name": "python",
   "nbconvert_exporter": "python",
   "pygments_lexer": "ipython3",
   "version": "3.10.4"
  }
 },
 "nbformat": 4,
 "nbformat_minor": 5
}
