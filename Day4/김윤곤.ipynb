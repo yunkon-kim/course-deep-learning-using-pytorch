{
 "cells": [
  {
   "cell_type": "markdown",
   "id": "ac688804",
   "metadata": {},
   "source": [
    "iris데이터셋을 이용\n",
    "1. 정규화\n",
    "2. train, test\n",
    "3. class 기반 딥러닝\n",
    "4. 학습간 정확도 출력\n",
    "5. test set 0번째 행 예측값 확인\n",
    "6. 검증\n",
    "- train, test f1 score\n",
    "- confusion matrix, heat map"
   ]
  },
  {
   "cell_type": "code",
   "execution_count": 1,
   "id": "27e432b0",
   "metadata": {},
   "outputs": [],
   "source": [
    "import torch\n",
    "from torch.optim import Adam\n",
    "from torch.nn import Linear, MSELoss, Sequential, Sigmoid, Softmax, ReLU, Module\n",
    "import numpy as np\n",
    "import pandas as pd\n",
    "import matplotlib.pyplot as plt\n",
    "import torch.nn.functional as F\n",
    "import seaborn as sb\n",
    "\n",
    "from sklearn.preprocessing import MinMaxScaler, StandardScaler\n",
    "from sklearn.datasets import load_iris\n",
    "from sklearn.metrics import confusion_matrix, f1_score, accuracy_score, accuracy_score, precision_score\n",
    "from sklearn.model_selection import train_test_split\n",
    "\n",
    "import matplotlib\n",
    "matplotlib.rcParams['font.family'] = 'Malgun Gothic'\n",
    "matplotlib.rcParams['axes.unicode_minus'] = False"
   ]
  },
  {
   "cell_type": "code",
   "execution_count": 2,
   "id": "b9f2293f",
   "metadata": {},
   "outputs": [],
   "source": [
    "iris = load_iris()"
   ]
  },
  {
   "cell_type": "code",
   "execution_count": 3,
   "id": "b5127b43",
   "metadata": {
    "scrolled": true
   },
   "outputs": [
    {
     "data": {
      "text/html": [
       "<div>\n",
       "<style scoped>\n",
       "    .dataframe tbody tr th:only-of-type {\n",
       "        vertical-align: middle;\n",
       "    }\n",
       "\n",
       "    .dataframe tbody tr th {\n",
       "        vertical-align: top;\n",
       "    }\n",
       "\n",
       "    .dataframe thead th {\n",
       "        text-align: right;\n",
       "    }\n",
       "</style>\n",
       "<table border=\"1\" class=\"dataframe\">\n",
       "  <thead>\n",
       "    <tr style=\"text-align: right;\">\n",
       "      <th></th>\n",
       "      <th>sepal length (cm)</th>\n",
       "      <th>sepal width (cm)</th>\n",
       "      <th>petal length (cm)</th>\n",
       "      <th>petal width (cm)</th>\n",
       "      <th>species</th>\n",
       "    </tr>\n",
       "  </thead>\n",
       "  <tbody>\n",
       "    <tr>\n",
       "      <th>0</th>\n",
       "      <td>5.1</td>\n",
       "      <td>3.5</td>\n",
       "      <td>1.4</td>\n",
       "      <td>0.2</td>\n",
       "      <td>0</td>\n",
       "    </tr>\n",
       "    <tr>\n",
       "      <th>1</th>\n",
       "      <td>4.9</td>\n",
       "      <td>3.0</td>\n",
       "      <td>1.4</td>\n",
       "      <td>0.2</td>\n",
       "      <td>0</td>\n",
       "    </tr>\n",
       "    <tr>\n",
       "      <th>2</th>\n",
       "      <td>4.7</td>\n",
       "      <td>3.2</td>\n",
       "      <td>1.3</td>\n",
       "      <td>0.2</td>\n",
       "      <td>0</td>\n",
       "    </tr>\n",
       "    <tr>\n",
       "      <th>3</th>\n",
       "      <td>4.6</td>\n",
       "      <td>3.1</td>\n",
       "      <td>1.5</td>\n",
       "      <td>0.2</td>\n",
       "      <td>0</td>\n",
       "    </tr>\n",
       "    <tr>\n",
       "      <th>4</th>\n",
       "      <td>5.0</td>\n",
       "      <td>3.6</td>\n",
       "      <td>1.4</td>\n",
       "      <td>0.2</td>\n",
       "      <td>0</td>\n",
       "    </tr>\n",
       "    <tr>\n",
       "      <th>...</th>\n",
       "      <td>...</td>\n",
       "      <td>...</td>\n",
       "      <td>...</td>\n",
       "      <td>...</td>\n",
       "      <td>...</td>\n",
       "    </tr>\n",
       "    <tr>\n",
       "      <th>145</th>\n",
       "      <td>6.7</td>\n",
       "      <td>3.0</td>\n",
       "      <td>5.2</td>\n",
       "      <td>2.3</td>\n",
       "      <td>2</td>\n",
       "    </tr>\n",
       "    <tr>\n",
       "      <th>146</th>\n",
       "      <td>6.3</td>\n",
       "      <td>2.5</td>\n",
       "      <td>5.0</td>\n",
       "      <td>1.9</td>\n",
       "      <td>2</td>\n",
       "    </tr>\n",
       "    <tr>\n",
       "      <th>147</th>\n",
       "      <td>6.5</td>\n",
       "      <td>3.0</td>\n",
       "      <td>5.2</td>\n",
       "      <td>2.0</td>\n",
       "      <td>2</td>\n",
       "    </tr>\n",
       "    <tr>\n",
       "      <th>148</th>\n",
       "      <td>6.2</td>\n",
       "      <td>3.4</td>\n",
       "      <td>5.4</td>\n",
       "      <td>2.3</td>\n",
       "      <td>2</td>\n",
       "    </tr>\n",
       "    <tr>\n",
       "      <th>149</th>\n",
       "      <td>5.9</td>\n",
       "      <td>3.0</td>\n",
       "      <td>5.1</td>\n",
       "      <td>1.8</td>\n",
       "      <td>2</td>\n",
       "    </tr>\n",
       "  </tbody>\n",
       "</table>\n",
       "<p>150 rows × 5 columns</p>\n",
       "</div>"
      ],
      "text/plain": [
       "     sepal length (cm)  sepal width (cm)  petal length (cm)  petal width (cm)  \\\n",
       "0                  5.1               3.5                1.4               0.2   \n",
       "1                  4.9               3.0                1.4               0.2   \n",
       "2                  4.7               3.2                1.3               0.2   \n",
       "3                  4.6               3.1                1.5               0.2   \n",
       "4                  5.0               3.6                1.4               0.2   \n",
       "..                 ...               ...                ...               ...   \n",
       "145                6.7               3.0                5.2               2.3   \n",
       "146                6.3               2.5                5.0               1.9   \n",
       "147                6.5               3.0                5.2               2.0   \n",
       "148                6.2               3.4                5.4               2.3   \n",
       "149                5.9               3.0                5.1               1.8   \n",
       "\n",
       "     species  \n",
       "0          0  \n",
       "1          0  \n",
       "2          0  \n",
       "3          0  \n",
       "4          0  \n",
       "..       ...  \n",
       "145        2  \n",
       "146        2  \n",
       "147        2  \n",
       "148        2  \n",
       "149        2  \n",
       "\n",
       "[150 rows x 5 columns]"
      ]
     },
     "execution_count": 3,
     "metadata": {},
     "output_type": "execute_result"
    }
   ],
   "source": [
    "df = pd.DataFrame( iris['data'] )\n",
    "df.columns = iris['feature_names']\n",
    "df['species'] = iris['target']\n",
    "df"
   ]
  },
  {
   "cell_type": "code",
   "execution_count": 4,
   "id": "9ef4ca6c",
   "metadata": {},
   "outputs": [
    {
     "data": {
      "image/png": "[encoded data removed]",
      "text/plain": [
       "<Figure size 1000x1000 with 2 Axes>"
      ]
     },
     "metadata": {},
     "output_type": "display_data"
    }
   ],
   "source": [
    "plt.figure(figsize=(10,10))\n",
    "sb.heatmap( df.corr(), vmin=-1, vmax=1, annot=True,\n",
    "           linewidths=0.2, cmap='seismic' )\n",
    "plt.show()"
   ]
  },
  {
   "cell_type": "code",
   "execution_count": 5,
   "id": "91d9a167",
   "metadata": {},
   "outputs": [],
   "source": [
    "x_data = df.iloc[:,:-1].values\n",
    "y_data = pd.get_dummies( df['species'] ).values"
   ]
  },
  {
   "cell_type": "markdown",
   "id": "90ec6480",
   "metadata": {},
   "source": [
    "### 1. 정규화"
   ]
  },
  {
   "cell_type": "code",
   "execution_count": 6,
   "id": "8e0a3f45",
   "metadata": {},
   "outputs": [],
   "source": [
    "scaleF = MinMaxScaler()\n",
    "x_dataN = scaleF.fit_transform( x_data )"
   ]
  },
  {
   "cell_type": "markdown",
   "id": "8febb793",
   "metadata": {},
   "source": [
    "### 2. Train set, test set"
   ]
  },
  {
   "cell_type": "code",
   "execution_count": 7,
   "id": "5b7d1bd9",
   "metadata": {},
   "outputs": [],
   "source": [
    "x_train, x_test, y_train, y_test = train_test_split(x_dataN, y_data, test_size=0.3, stratify=y_data)"
   ]
  },
  {
   "cell_type": "code",
   "execution_count": 25,
   "id": "a9450167",
   "metadata": {},
   "outputs": [
    {
     "name": "stdout",
     "output_type": "stream",
     "text": [
      "feature_len: 4 , label_len: 3\n"
     ]
    }
   ],
   "source": [
    "x = torch.FloatTensor( x_dataN)\n",
    "y = torch.FloatTensor( y_data)\n",
    "feature_len = x.shape[1]\n",
    "label_len = y.shape[1]\n",
    "print('feature_len:', feature_len, ', label_len:', label_len)"
   ]
  },
  {
   "cell_type": "markdown",
   "id": "eedead28",
   "metadata": {},
   "source": [
    "### 3. Class 기반 딥러닝"
   ]
  },
  {
   "cell_type": "code",
   "execution_count": 9,
   "id": "244ffeba",
   "metadata": {},
   "outputs": [],
   "source": [
    "class ClassificationModel(Module):\n",
    "    def __init__(self, feat_len, label_len):\n",
    "        super().__init__() # 초기화작업\n",
    "        self.nn1 = Linear(feat_len, 20)\n",
    "        self.leru1 = ReLU()\n",
    "        self.nn2 = Linear(20, label_len)\n",
    "        self.soft2 = Softmax(dim=1)\n",
    "    \n",
    "    def forward(self, x):\n",
    "        print('forward call')\n",
    "#         x = self.nn1.forward(x)\n",
    "        x = self.nn1(x) # matmul(x, w1) + b1  w1:2x20\n",
    "        x = self.leru1(x) # 1/1+e^-z\n",
    "        x = self.nn2(x) # matmul(x, w2) + b2  w2:20x1\n",
    "        x = self.soft2(x)\n",
    "        return x    "
   ]
  },
  {
   "cell_type": "code",
   "execution_count": 10,
   "id": "7f3e59d0",
   "metadata": {},
   "outputs": [],
   "source": [
    "model = ClassificationModel(feature_len, label_len)\n",
    "loss_fn = torch.nn.CrossEntropyLoss()"
   ]
  },
  {
   "cell_type": "markdown",
   "id": "745a967c",
   "metadata": {},
   "source": [
    "### 4. 학습간 정확도 출력"
   ]
  },
  {
   "cell_type": "code",
   "execution_count": 11,
   "id": "a71e9c98",
   "metadata": {},
   "outputs": [
    {
     "name": "stdout",
     "output_type": "stream",
     "text": [
      "forward call\n",
      "----------------------------\n",
      "정확도 0.3333333333333333\n",
      "0 1.111884355545044\n",
      "forward call\n",
      "----------------------------\n",
      "정확도 0.3333333333333333\n",
      "1 1.075857162475586\n",
      "forward call\n",
      "----------------------------\n",
      "정확도 0.68\n",
      "2 1.0278276205062866\n",
      "forward call\n",
      "----------------------------\n",
      "정확도 0.6666666666666666\n",
      "3 0.9443960785865784\n",
      "forward call\n",
      "----------------------------\n",
      "정확도 0.6666666666666666\n",
      "4 0.8723306059837341\n",
      "forward call\n",
      "----------------------------\n",
      "정확도 0.6666666666666666\n",
      "5 0.8266115188598633\n",
      "forward call\n",
      "----------------------------\n",
      "정확도 0.7333333333333333\n",
      "6 0.7831636667251587\n",
      "forward call\n",
      "----------------------------\n",
      "정확도 0.9066666666666666\n",
      "7 0.7511789798736572\n",
      "forward call\n",
      "----------------------------\n",
      "정확도 0.9466666666666667\n",
      "8 0.723379909992218\n",
      "forward call\n",
      "----------------------------\n",
      "정확도 0.9\n",
      "9 0.7027313113212585\n",
      "forward call\n",
      "----------------------------\n",
      "정확도 0.94\n",
      "10 0.6769744157791138\n",
      "forward call\n",
      "----------------------------\n",
      "정확도 0.9466666666666667\n",
      "11 0.6639565229415894\n",
      "forward call\n",
      "----------------------------\n",
      "정확도 0.9533333333333334\n",
      "12 0.642137885093689\n",
      "forward call\n",
      "----------------------------\n",
      "정확도 0.9466666666666667\n",
      "13 0.634486734867096\n",
      "forward call\n",
      "----------------------------\n",
      "정확도 0.96\n",
      "14 0.6210933923721313\n",
      "forward call\n",
      "----------------------------\n",
      "정확도 0.9533333333333334\n",
      "15 0.6180057525634766\n",
      "forward call\n",
      "----------------------------\n",
      "정확도 0.9533333333333334\n",
      "16 0.608729362487793\n",
      "forward call\n",
      "----------------------------\n",
      "정확도 0.9733333333333334\n",
      "17 0.6061223745346069\n",
      "forward call\n",
      "----------------------------\n",
      "정확도 0.9733333333333334\n",
      "18 0.6012710332870483\n",
      "forward call\n",
      "----------------------------\n",
      "정확도 0.9533333333333334\n",
      "19 0.5979942083358765\n",
      "forward call\n",
      "----------------------------\n",
      "정확도 0.9533333333333334\n",
      "20 0.5964059233665466\n",
      "forward call\n",
      "----------------------------\n",
      "정확도 0.9666666666666667\n",
      "21 0.5924909710884094\n",
      "forward call\n",
      "----------------------------\n",
      "정확도 0.9733333333333334\n",
      "22 0.5919822454452515\n",
      "forward call\n",
      "----------------------------\n",
      "정확도 0.9666666666666667\n",
      "23 0.5894982814788818\n",
      "forward call\n",
      "----------------------------\n",
      "정확도 0.9666666666666667\n",
      "24 0.5878245830535889\n",
      "forward call\n",
      "----------------------------\n",
      "정확도 0.9666666666666667\n",
      "25 0.5873422026634216\n",
      "forward call\n",
      "----------------------------\n",
      "정확도 0.9666666666666667\n",
      "26 0.5852975249290466\n",
      "forward call\n",
      "----------------------------\n",
      "정확도 0.9666666666666667\n",
      "27 0.5848029851913452\n",
      "forward call\n",
      "----------------------------\n",
      "정확도 0.9666666666666667\n",
      "28 0.5841376185417175\n",
      "forward call\n",
      "----------------------------\n",
      "정확도 0.9666666666666667\n",
      "29 0.582800567150116\n",
      "forward call\n",
      "----------------------------\n",
      "정확도 0.9733333333333334\n",
      "30 0.582547128200531\n",
      "forward call\n",
      "----------------------------\n",
      "정확도 0.9733333333333334\n",
      "31 0.5818497538566589\n",
      "forward call\n",
      "----------------------------\n",
      "정확도 0.9733333333333334\n",
      "32 0.5810059905052185\n",
      "forward call\n",
      "----------------------------\n",
      "정확도 0.9666666666666667\n",
      "33 0.580852210521698\n",
      "forward call\n",
      "----------------------------\n",
      "정확도 0.9733333333333334\n",
      "34 0.5800626873970032\n",
      "forward call\n",
      "----------------------------\n",
      "정확도 0.98\n",
      "35 0.5795360207557678\n",
      "forward call\n",
      "----------------------------\n",
      "정확도 0.98\n",
      "36 0.5792609453201294\n",
      "forward call\n",
      "----------------------------\n",
      "정확도 0.98\n",
      "37 0.5784910321235657\n",
      "forward call\n",
      "----------------------------\n",
      "정확도 0.9733333333333334\n",
      "38 0.5783448815345764\n",
      "forward call\n",
      "----------------------------\n",
      "정확도 0.98\n",
      "39 0.5776692032814026\n",
      "forward call\n",
      "----------------------------\n",
      "정확도 0.9866666666666667\n",
      "40 0.5774779915809631\n",
      "forward call\n",
      "----------------------------\n",
      "정확도 0.9866666666666667\n",
      "41 0.5769543647766113\n",
      "forward call\n",
      "----------------------------\n",
      "정확도 0.98\n",
      "42 0.5767003893852234\n",
      "forward call\n",
      "----------------------------\n",
      "정확도 0.98\n",
      "43 0.5763993263244629\n",
      "forward call\n",
      "----------------------------\n",
      "정확도 0.9866666666666667\n",
      "44 0.5760805010795593\n",
      "forward call\n",
      "----------------------------\n",
      "정확도 0.9866666666666667\n",
      "45 0.5759495496749878\n",
      "forward call\n",
      "----------------------------\n",
      "정확도 0.98\n",
      "46 0.575636088848114\n",
      "forward call\n",
      "----------------------------\n",
      "정확도 0.98\n",
      "47 0.5755659341812134\n",
      "forward call\n",
      "----------------------------\n",
      "정확도 0.98\n",
      "48 0.5752764344215393\n",
      "forward call\n",
      "----------------------------\n",
      "정확도 0.98\n",
      "49 0.5752260088920593\n",
      "forward call\n",
      "----------------------------\n",
      "정확도 0.98\n",
      "50 0.5749767422676086\n",
      "forward call\n",
      "----------------------------\n",
      "정확도 0.98\n",
      "51 0.574887216091156\n",
      "forward call\n",
      "----------------------------\n",
      "정확도 0.98\n",
      "52 0.574703574180603\n",
      "forward call\n",
      "----------------------------\n",
      "정확도 0.98\n",
      "53 0.5745512843132019\n",
      "forward call\n",
      "----------------------------\n",
      "정확도 0.98\n",
      "54 0.5744113922119141\n",
      "forward call\n",
      "----------------------------\n",
      "정확도 0.98\n",
      "55 0.5742276906967163\n",
      "forward call\n",
      "----------------------------\n",
      "정확도 0.98\n",
      "56 0.5741041898727417\n",
      "forward call\n",
      "----------------------------\n",
      "정확도 0.98\n",
      "57 0.5739046335220337\n",
      "forward call\n",
      "----------------------------\n",
      "정확도 0.98\n",
      "58 0.573788583278656\n",
      "forward call\n",
      "----------------------------\n",
      "정확도 0.98\n",
      "59 0.5735933184623718\n",
      "forward call\n",
      "----------------------------\n",
      "정확도 0.98\n",
      "60 0.5734795928001404\n",
      "forward call\n",
      "----------------------------\n",
      "정확도 0.98\n",
      "61 0.5733016729354858\n",
      "forward call\n",
      "----------------------------\n",
      "정확도 0.9866666666666667\n",
      "62 0.5731976628303528\n",
      "forward call\n",
      "----------------------------\n",
      "정확도 0.9866666666666667\n",
      "63 0.5730391144752502\n",
      "forward call\n",
      "----------------------------\n",
      "정확도 0.98\n",
      "64 0.5729455351829529\n",
      "forward call\n",
      "----------------------------\n",
      "정확도 0.9866666666666667\n",
      "65 0.5728113651275635\n",
      "forward call\n",
      "----------------------------\n",
      "정확도 0.9866666666666667\n",
      "66 0.5727322101593018\n",
      "forward call\n",
      "----------------------------\n",
      "정확도 0.9866666666666667\n",
      "67 0.5726169943809509\n",
      "forward call\n",
      "----------------------------\n",
      "정확도 0.9866666666666667\n",
      "68 0.5725461840629578\n",
      "forward call\n",
      "----------------------------\n",
      "정확도 0.9866666666666667\n",
      "69 0.5724472999572754\n",
      "forward call\n",
      "----------------------------\n",
      "정확도 0.9866666666666667\n",
      "70 0.5723806023597717\n",
      "forward call\n",
      "----------------------------\n",
      "정확도 0.9866666666666667\n",
      "71 0.5722997784614563\n",
      "forward call\n",
      "----------------------------\n",
      "정확도 0.9866666666666667\n",
      "72 0.5722408294677734\n",
      "forward call\n",
      "----------------------------\n",
      "정확도 0.9866666666666667\n",
      "73 0.572170615196228\n",
      "forward call\n",
      "----------------------------\n",
      "정확도 0.9866666666666667\n",
      "74 0.5721048712730408\n",
      "forward call\n",
      "----------------------------\n",
      "정확도 0.9866666666666667\n",
      "75 0.572036862373352\n",
      "forward call\n",
      "----------------------------\n",
      "정확도 0.9866666666666667\n",
      "76 0.5719678401947021\n",
      "forward call\n",
      "----------------------------\n",
      "정확도 0.9866666666666667\n",
      "77 0.5719105005264282\n",
      "forward call\n",
      "----------------------------\n",
      "정확도 0.9866666666666667\n",
      "78 0.5718437433242798\n",
      "forward call\n",
      "----------------------------\n",
      "정확도 0.9866666666666667\n",
      "79 0.5717854499816895\n",
      "forward call\n",
      "----------------------------\n",
      "정확도 0.9866666666666667\n",
      "80 0.5717155933380127\n",
      "forward call\n",
      "----------------------------\n",
      "정확도 0.9866666666666667\n",
      "81 0.5716598033905029\n",
      "forward call\n",
      "----------------------------\n",
      "정확도 0.9866666666666667\n",
      "82 0.571601152420044\n",
      "forward call\n",
      "----------------------------\n",
      "정확도 0.9866666666666667\n",
      "83 0.5715486407279968\n",
      "forward call\n",
      "----------------------------\n",
      "정확도 0.9866666666666667\n",
      "84 0.5714903473854065\n",
      "forward call\n",
      "----------------------------\n",
      "정확도 0.9866666666666667\n",
      "85 0.5714355707168579\n",
      "forward call\n",
      "----------------------------\n",
      "정확도 0.9866666666666667\n",
      "86 0.5713828802108765\n",
      "forward call\n",
      "----------------------------\n",
      "정확도 0.9866666666666667\n",
      "87 0.5713368654251099\n",
      "forward call\n",
      "----------------------------\n",
      "정확도 0.9866666666666667\n",
      "88 0.571291983127594\n",
      "forward call\n",
      "----------------------------\n",
      "정확도 0.9866666666666667\n",
      "89 0.571245014667511\n",
      "forward call\n",
      "----------------------------\n",
      "정확도 0.9866666666666667\n",
      "90 0.5712006092071533\n",
      "forward call\n",
      "----------------------------\n",
      "정확도 0.9866666666666667\n",
      "91 0.5711541771888733\n",
      "forward call\n",
      "----------------------------\n",
      "정확도 0.9866666666666667\n",
      "92 0.5711103677749634\n",
      "forward call\n",
      "----------------------------\n",
      "정확도 0.9866666666666667\n",
      "93 0.5710695385932922\n",
      "forward call\n",
      "----------------------------\n",
      "정확도 0.9866666666666667\n",
      "94 0.571030855178833\n",
      "forward call\n",
      "----------------------------\n",
      "정확도 0.9866666666666667\n",
      "95 0.570990800857544\n",
      "forward call\n",
      "----------------------------\n",
      "정확도 0.9866666666666667\n",
      "96 0.5709500312805176\n",
      "forward call\n",
      "----------------------------\n",
      "정확도 0.9866666666666667\n",
      "97 0.5709086656570435\n",
      "forward call\n",
      "----------------------------\n",
      "정확도 0.9866666666666667\n",
      "98 0.5708664059638977\n",
      "forward call\n",
      "----------------------------\n",
      "정확도 0.9866666666666667\n",
      "99 0.5708290338516235\n"
     ]
    }
   ],
   "source": [
    "optimizer = Adam( model.parameters(), lr=0.1)\n",
    "hist=[]\n",
    "for epoch in range(100):\n",
    "    optimizer.zero_grad()\n",
    "    hx = model.forward(x) \n",
    "    # z = torch.matmul(x,w)+b\n",
    "    # hx = Sigmoid(z)\n",
    "    cost = loss_fn(hx,y)\n",
    "    cost.backward()\n",
    "    optimizer.step()\n",
    "    print('----------------------------')\n",
    "    rdata = y.argmax(dim=1).numpy()\n",
    "    pred = hx.argmax(dim=1).numpy()\n",
    "    print('정확도', accuracy_score(rdata, pred))    \n",
    "    print(epoch, cost.item())\n",
    "    hist.append(cost.item())"
   ]
  },
  {
   "cell_type": "code",
   "execution_count": 12,
   "id": "106d887d",
   "metadata": {},
   "outputs": [
    {
     "data": {
      "image/png": "[encoded data removed]",
      "text/plain": [
       "<Figure size 640x480 with 1 Axes>"
      ]
     },
     "metadata": {},
     "output_type": "display_data"
    }
   ],
   "source": [
    "plt.plot( hist)\n",
    "plt.show()"
   ]
  },
  {
   "cell_type": "markdown",
   "id": "dec2fa45",
   "metadata": {},
   "source": [
    "### 5. Test 데이터 0번째 행 예측값 확인"
   ]
  },
  {
   "cell_type": "code",
   "execution_count": 13,
   "id": "8e69a9ea",
   "metadata": {},
   "outputs": [
    {
     "name": "stdout",
     "output_type": "stream",
     "text": [
      "forward call\n"
     ]
    },
    {
     "data": {
      "text/plain": [
       "tensor([1])"
      ]
     },
     "execution_count": 13,
     "metadata": {},
     "output_type": "execute_result"
    }
   ],
   "source": [
    "test_pred_y0 = model( torch.FloatTensor(x_test[0].reshape(1,feature_len) )).argmax(dim=1)\n",
    "test_pred_y0"
   ]
  },
  {
   "cell_type": "code",
   "execution_count": 14,
   "id": "b690ef3e",
   "metadata": {},
   "outputs": [
    {
     "data": {
      "text/plain": [
       "tensor(0)"
      ]
     },
     "execution_count": 14,
     "metadata": {},
     "output_type": "execute_result"
    }
   ],
   "source": [
    "test_true_y0 = y[0].argmax(dim=0)\n",
    "test_true_y0"
   ]
  },
  {
   "cell_type": "markdown",
   "id": "d731eab7",
   "metadata": {},
   "source": [
    "### 6. 검증\n",
    "- Train, test f1_score"
   ]
  },
  {
   "cell_type": "code",
   "execution_count": 15,
   "id": "9220b8c8",
   "metadata": {},
   "outputs": [
    {
     "name": "stdout",
     "output_type": "stream",
     "text": [
      "forward call\n"
     ]
    },
    {
     "data": {
      "text/plain": [
       "tensor([1, 0, 0, 0, 0, 1, 2, 2, 1, 0, 2, 1, 0, 0, 2, 0, 1, 0, 2, 1, 1, 2, 0, 2,\n",
       "        0, 2, 1, 1, 0, 2, 2, 1, 1, 0, 1, 2, 2, 1, 0, 2, 0, 1, 1, 0, 0, 1, 0, 2,\n",
       "        1, 0, 2, 2, 0, 0, 1, 0, 1, 2, 0, 0, 1, 2, 0, 2, 2, 1, 1, 0, 0, 0, 1, 0,\n",
       "        2, 0, 1, 1, 2, 2, 1, 2, 2, 0, 2, 1, 2, 0, 0, 1, 2, 1, 2, 1, 1, 2, 1, 1,\n",
       "        2, 1, 1, 2, 2, 0, 2, 2, 0])"
      ]
     },
     "execution_count": 15,
     "metadata": {},
     "output_type": "execute_result"
    }
   ],
   "source": [
    "train_y_pred = model( torch.FloatTensor(x_train)).argmax(dim=1)\n",
    "train_y_pred"
   ]
  },
  {
   "cell_type": "code",
   "execution_count": 16,
   "id": "75c073df",
   "metadata": {},
   "outputs": [
    {
     "data": {
      "text/plain": [
       "array([1, 0, 0, 0, 0, 1, 2, 2, 1, 0, 2, 1, 0, 0, 2, 0, 1, 0, 2, 1, 1, 2,\n",
       "       0, 2, 0, 2, 1, 1, 0, 2, 2, 1, 1, 0, 1, 2, 2, 1, 0, 2, 0, 1, 1, 0,\n",
       "       0, 1, 0, 2, 1, 0, 2, 2, 0, 0, 1, 0, 1, 2, 0, 0, 1, 2, 0, 2, 2, 1,\n",
       "       1, 0, 0, 0, 1, 0, 2, 0, 1, 1, 2, 2, 1, 2, 2, 0, 2, 1, 2, 0, 0, 1,\n",
       "       2, 1, 2, 1, 1, 2, 1, 1, 2, 1, 1, 2, 2, 0, 2, 2, 0], dtype=int64)"
      ]
     },
     "execution_count": 16,
     "metadata": {},
     "output_type": "execute_result"
    }
   ],
   "source": [
    "train_y_true = y_train.argmax(axis=1)\n",
    "train_y_true"
   ]
  },
  {
   "cell_type": "markdown",
   "id": "b821b548",
   "metadata": {},
   "source": [
    "#### Train set f1_score"
   ]
  },
  {
   "cell_type": "code",
   "execution_count": 17,
   "id": "5a1b3010",
   "metadata": {},
   "outputs": [
    {
     "data": {
      "text/plain": [
       "1.0"
      ]
     },
     "execution_count": 17,
     "metadata": {},
     "output_type": "execute_result"
    }
   ],
   "source": [
    "f1_score(train_y_true, train_y_pred, average='macro')"
   ]
  },
  {
   "cell_type": "code",
   "execution_count": 18,
   "id": "67685201",
   "metadata": {},
   "outputs": [
    {
     "name": "stdout",
     "output_type": "stream",
     "text": [
      "forward call\n"
     ]
    },
    {
     "data": {
      "text/plain": [
       "tensor([1, 2, 2, 2, 2, 1, 0, 1, 0, 2, 2, 1, 1, 1, 2, 2, 0, 2, 0, 0, 0, 1, 1, 1,\n",
       "        2, 0, 0, 1, 1, 0, 1, 0, 1, 0, 2, 0, 0, 2, 2, 2, 1, 1, 2, 0, 0])"
      ]
     },
     "execution_count": 18,
     "metadata": {},
     "output_type": "execute_result"
    }
   ],
   "source": [
    "test_y_pred = model( torch.FloatTensor(x_test)).argmax(dim=1)\n",
    "test_y_pred"
   ]
  },
  {
   "cell_type": "code",
   "execution_count": 19,
   "id": "9d4366f8",
   "metadata": {},
   "outputs": [
    {
     "data": {
      "text/plain": [
       "array([1, 2, 2, 2, 2, 1, 0, 2, 0, 2, 2, 1, 1, 1, 2, 2, 0, 2, 0, 0, 0, 1,\n",
       "       1, 1, 2, 0, 0, 1, 1, 0, 1, 0, 1, 0, 1, 0, 0, 2, 2, 2, 1, 1, 2, 0,\n",
       "       0], dtype=int64)"
      ]
     },
     "execution_count": 19,
     "metadata": {},
     "output_type": "execute_result"
    }
   ],
   "source": [
    "test_y_true = y_test.argmax(axis=1)\n",
    "test_y_true"
   ]
  },
  {
   "cell_type": "markdown",
   "id": "a2088bf9",
   "metadata": {},
   "source": [
    "#### Train set confusion_matrix and heatmap"
   ]
  },
  {
   "cell_type": "code",
   "execution_count": 20,
   "id": "04152c27",
   "metadata": {},
   "outputs": [
    {
     "data": {
      "image/png": "[encoded data removed]",
      "text/plain": [
       "<Figure size 640x480 with 2 Axes>"
      ]
     },
     "metadata": {},
     "output_type": "display_data"
    }
   ],
   "source": [
    "train_con_mat = confusion_matrix(train_y_true, train_y_pred)\n",
    "sb.heatmap(train_con_mat, annot=True)\n",
    "plt.show()"
   ]
  },
  {
   "cell_type": "markdown",
   "id": "45240073",
   "metadata": {},
   "source": [
    "#### Test set f1_score"
   ]
  },
  {
   "cell_type": "code",
   "execution_count": 21,
   "id": "147906f2",
   "metadata": {},
   "outputs": [
    {
     "data": {
      "text/plain": [
       "0.9555555555555556"
      ]
     },
     "execution_count": 21,
     "metadata": {},
     "output_type": "execute_result"
    }
   ],
   "source": [
    "f1_score(test_y_true, test_y_pred, average='macro')"
   ]
  },
  {
   "cell_type": "markdown",
   "id": "4f284f95",
   "metadata": {},
   "source": [
    "#### Test set confusion_matrix and heatmap\n"
   ]
  },
  {
   "cell_type": "code",
   "execution_count": 22,
   "id": "cc90692a",
   "metadata": {},
   "outputs": [
    {
     "data": {
      "image/png": "[encoded data removed]",
      "text/plain": [
       "<Figure size 640x480 with 2 Axes>"
      ]
     },
     "metadata": {},
     "output_type": "display_data"
    }
   ],
   "source": [
    "test_con_mat = confusion_matrix(test_y_true, test_y_pred)\n",
    "sb.heatmap(test_con_mat, annot=True)\n",
    "plt.show()"
   ]
  }
 ],
 "metadata": {
  "kernelspec": {
   "display_name": "Python 3 (ipykernel)",
   "language": "python",
   "name": "python3"
  },
  "language_info": {
   "codemirror_mode": {
    "name": "ipython",
    "version": 3
   },
   "file_extension": ".py",
   "mimetype": "text/x-python",
   "name": "python",
   "nbconvert_exporter": "python",
   "pygments_lexer": "ipython3",
   "version": "3.10.4"
  }
 },
 "nbformat": 4,
 "nbformat_minor": 5
}
