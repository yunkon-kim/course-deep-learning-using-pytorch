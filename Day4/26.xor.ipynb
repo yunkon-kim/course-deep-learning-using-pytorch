{
 "cells": [
  {
   "cell_type": "markdown",
   "id": "78cc8ef9",
   "metadata": {},
   "source": [
    "deep learning이 등장하게된 배경은 xor 문제를 해결하기 위해서"
   ]
  },
  {
   "cell_type": "code",
   "execution_count": 2,
   "id": "1cab3ff5",
   "metadata": {},
   "outputs": [],
   "source": [
    "import numpy as np"
   ]
  },
  {
   "cell_type": "code",
   "execution_count": 10,
   "id": "756eb003",
   "metadata": {},
   "outputs": [],
   "source": [
    "data=[[1,1],[1,0],[0,1],[0,0]]"
   ]
  },
  {
   "cell_type": "code",
   "execution_count": 11,
   "id": "11b4ef16",
   "metadata": {},
   "outputs": [],
   "source": [
    "def common(w1,w2, theta, x1,x2):\n",
    "    value = w1*x1 + w2*x2\n",
    "    print('value: ', value)\n",
    "    return value > theta"
   ]
  },
  {
   "cell_type": "code",
   "execution_count": 19,
   "id": "8b465011",
   "metadata": {},
   "outputs": [],
   "source": [
    "def AND(x1, x2):\n",
    "    return common (0.5, 0.5, 0.5, x1, x2)"
   ]
  },
  {
   "cell_type": "code",
   "execution_count": 20,
   "id": "bc5e09e9",
   "metadata": {},
   "outputs": [],
   "source": [
    "def OR(x1, x2):\n",
    "    return common (0.5, 0.5, 0.2, x1, x2)"
   ]
  },
  {
   "cell_type": "code",
   "execution_count": 21,
   "id": "d921f8bd",
   "metadata": {},
   "outputs": [],
   "source": [
    "def NAND(x1, x2):\n",
    "    return common (-0.5, -0.5, -0.7, x1, x2)"
   ]
  },
  {
   "cell_type": "code",
   "execution_count": 22,
   "id": "c22e6433",
   "metadata": {},
   "outputs": [],
   "source": [
    "def XOR(x1, x2):\n",
    "    y1 = OR(x1,x2)\n",
    "    y2 = NAND(x1,x2)\n",
    "    return AND(y1, y2)"
   ]
  },
  {
   "cell_type": "code",
   "execution_count": 23,
   "id": "93f37879",
   "metadata": {},
   "outputs": [],
   "source": [
    "def show_operation(op):\n",
    "    for x1, x2 in data:\n",
    "        print(op(x1,x2))\n",
    "    "
   ]
  },
  {
   "cell_type": "code",
   "execution_count": 14,
   "id": "9ce02350",
   "metadata": {},
   "outputs": [
    {
     "name": "stdout",
     "output_type": "stream",
     "text": [
      "value:  1.0\n",
      "True\n",
      "value:  0.5\n",
      "False\n",
      "value:  0.5\n",
      "False\n",
      "value:  0.0\n",
      "False\n"
     ]
    }
   ],
   "source": [
    "show_operation(AND)"
   ]
  },
  {
   "cell_type": "code",
   "execution_count": 16,
   "id": "bbf83834",
   "metadata": {},
   "outputs": [
    {
     "name": "stdout",
     "output_type": "stream",
     "text": [
      "value:  1.0\n",
      "True\n",
      "value:  0.5\n",
      "True\n",
      "value:  0.5\n",
      "True\n",
      "value:  0.0\n",
      "False\n"
     ]
    }
   ],
   "source": [
    "show_operation(OR)"
   ]
  },
  {
   "cell_type": "code",
   "execution_count": 24,
   "id": "7468ee1e",
   "metadata": {},
   "outputs": [
    {
     "name": "stdout",
     "output_type": "stream",
     "text": [
      "value:  -1.0\n",
      "False\n",
      "value:  -0.5\n",
      "True\n",
      "value:  -0.5\n",
      "True\n",
      "value:  -0.0\n",
      "True\n"
     ]
    }
   ],
   "source": [
    "show_operation(NAND)"
   ]
  },
  {
   "cell_type": "code",
   "execution_count": 25,
   "id": "c06be419",
   "metadata": {},
   "outputs": [
    {
     "name": "stdout",
     "output_type": "stream",
     "text": [
      "value:  1.0\n",
      "value:  -1.0\n",
      "value:  0.5\n",
      "False\n",
      "value:  0.5\n",
      "value:  -0.5\n",
      "value:  1.0\n",
      "True\n",
      "value:  0.5\n",
      "value:  -0.5\n",
      "value:  1.0\n",
      "True\n",
      "value:  0.0\n",
      "value:  -0.0\n",
      "value:  0.5\n",
      "False\n"
     ]
    }
   ],
   "source": [
    "show_operation(XOR)"
   ]
  }
 ],
 "metadata": {
  "kernelspec": {
   "display_name": "Python 3 (ipykernel)",
   "language": "python",
   "name": "python3"
  },
  "language_info": {
   "codemirror_mode": {
    "name": "ipython",
    "version": 3
   },
   "file_extension": ".py",
   "mimetype": "text/x-python",
   "name": "python",
   "nbconvert_exporter": "python",
   "pygments_lexer": "ipython3",
   "version": "3.10.4"
  }
 },
 "nbformat": 4,
 "nbformat_minor": 5
}
