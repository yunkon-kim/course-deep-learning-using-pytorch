{
 "cells": [
  {
   "cell_type": "code",
   "execution_count": 1,
   "id": "7ccfd257",
   "metadata": {},
   "outputs": [],
   "source": [
    "import torch\n",
    "import torch.nn as nn\n",
    "from torch.optim import Adam\n",
    "from torch.nn import Linear, MSELoss, Sequential, Sigmoid, Softmax, ReLU, Module\n",
    "import numpy as np\n",
    "import pandas as pd\n",
    "import matplotlib.pyplot as plt\n",
    "import torch.nn.functional as F\n",
    "import seaborn as sb\n",
    "\n",
    "from sklearn.preprocessing import MinMaxScaler, StandardScaler\n",
    "from sklearn.datasets import load_iris\n",
    "from sklearn.metrics import confusion_matrix, f1_score, accuracy_score, accuracy_score, precision_score\n",
    "from sklearn.model_selection import train_test_split\n",
    "\n",
    "import matplotlib\n",
    "matplotlib.rcParams['font.family'] = 'Malgun Gothic'\n",
    "matplotlib.rcParams['axes.unicode_minus'] = False"
   ]
  },
  {
   "cell_type": "code",
   "execution_count": 2,
   "id": "38492af6",
   "metadata": {},
   "outputs": [],
   "source": [
    "from sklearn.datasets import fetch_openml"
   ]
  },
  {
   "cell_type": "code",
   "execution_count": 3,
   "id": "c381530a",
   "metadata": {},
   "outputs": [],
   "source": [
    "mnist = fetch_openml('mnist_784') # 손글씨 숫자 이미지"
   ]
  },
  {
   "cell_type": "code",
   "execution_count": 4,
   "id": "98c94e97",
   "metadata": {
    "collapsed": true
   },
   "outputs": [
    {
     "data": {
      "text/plain": [
       "dict_keys(['data', 'target', 'frame', 'categories', 'feature_names', 'target_names', 'DESCR', 'details', 'url'])"
      ]
     },
     "execution_count": 4,
     "metadata": {},
     "output_type": "execute_result"
    }
   ],
   "source": [
    "mnist.keys()"
   ]
  },
  {
   "cell_type": "code",
   "execution_count": 5,
   "id": "ebfc822e",
   "metadata": {
    "scrolled": true
   },
   "outputs": [
    {
     "data": {
      "text/plain": [
       "(70000, 784)"
      ]
     },
     "execution_count": 5,
     "metadata": {},
     "output_type": "execute_result"
    }
   ],
   "source": [
    "mnist['data'].shape"
   ]
  },
  {
   "cell_type": "code",
   "execution_count": 6,
   "id": "7bc4ac64",
   "metadata": {
    "collapsed": true
   },
   "outputs": [
    {
     "data": {
      "text/plain": [
       "0        5\n",
       "1        0\n",
       "2        4\n",
       "3        1\n",
       "4        9\n",
       "        ..\n",
       "69995    2\n",
       "69996    3\n",
       "69997    4\n",
       "69998    5\n",
       "69999    6\n",
       "Name: class, Length: 70000, dtype: category\n",
       "Categories (10, object): ['0', '1', '2', '3', ..., '6', '7', '8', '9']"
      ]
     },
     "execution_count": 6,
     "metadata": {},
     "output_type": "execute_result"
    }
   ],
   "source": [
    "mnist['target']"
   ]
  },
  {
   "cell_type": "code",
   "execution_count": 7,
   "id": "d56abb6f",
   "metadata": {
    "collapsed": true
   },
   "outputs": [
    {
     "data": {
      "text/plain": [
       "array([  0.,   0.,   0.,   0.,   0.,   0.,   0.,   0.,   0.,   0.,   0.,\n",
       "         0.,   0.,   0.,   0.,   0.,   0.,   0.,   0.,   0.,   0.,   0.,\n",
       "         0.,   0.,   0.,   0.,   0.,   0.,   0.,   0.,   0.,   0.,   0.,\n",
       "         0.,   0.,   0.,   0.,   0.,   0.,   0.,   0.,   0.,   0.,   0.,\n",
       "         0.,   0.,   0.,   0.,   0.,   0.,   0.,   0.,   0.,   0.,   0.,\n",
       "         0.,   0.,   0.,   0.,   0.,   0.,   0.,   0.,   0.,   0.,   0.,\n",
       "         0.,   0.,   0.,   0.,   0.,   0.,   0.,   0.,   0.,   0.,   0.,\n",
       "         0.,   0.,   0.,   0.,   0.,   0.,   0.,   0.,   0.,   0.,   0.,\n",
       "         0.,   0.,   0.,   0.,   0.,   0.,   0.,   0.,   0.,   0.,   0.,\n",
       "         0.,   0.,   0.,   0.,   0.,   0.,   0.,   0.,   0.,   0.,   0.,\n",
       "         0.,   0.,   0.,   0.,   0.,   0.,   0.,   0.,   0.,   0.,   0.,\n",
       "         0.,   0.,   0.,   0.,   0.,   0.,   0.,   0.,   0.,   0.,   0.,\n",
       "         0.,   0.,   0.,   0.,   0.,   0.,   0.,   0.,   0.,   0.,   0.,\n",
       "         0.,   0.,   0.,   0.,   0.,   0.,   0.,   0.,   0.,   3.,  18.,\n",
       "        18.,  18., 126., 136., 175.,  26., 166., 255., 247., 127.,   0.,\n",
       "         0.,   0.,   0.,   0.,   0.,   0.,   0.,   0.,   0.,   0.,   0.,\n",
       "        30.,  36.,  94., 154., 170., 253., 253., 253., 253., 253., 225.,\n",
       "       172., 253., 242., 195.,  64.,   0.,   0.,   0.,   0.,   0.,   0.,\n",
       "         0.,   0.,   0.,   0.,   0.,  49., 238., 253., 253., 253., 253.,\n",
       "       253., 253., 253., 253., 251.,  93.,  82.,  82.,  56.,  39.,   0.,\n",
       "         0.,   0.,   0.,   0.,   0.,   0.,   0.,   0.,   0.,   0.,   0.,\n",
       "        18., 219., 253., 253., 253., 253., 253., 198., 182., 247., 241.,\n",
       "         0.,   0.,   0.,   0.,   0.,   0.,   0.,   0.,   0.,   0.,   0.,\n",
       "         0.,   0.,   0.,   0.,   0.,   0.,   0.,  80., 156., 107., 253.,\n",
       "       253., 205.,  11.,   0.,  43., 154.,   0.,   0.,   0.,   0.,   0.,\n",
       "         0.,   0.,   0.,   0.,   0.,   0.,   0.,   0.,   0.,   0.,   0.,\n",
       "         0.,   0.,   0.,  14.,   1., 154., 253.,  90.,   0.,   0.,   0.,\n",
       "         0.,   0.,   0.,   0.,   0.,   0.,   0.,   0.,   0.,   0.,   0.,\n",
       "         0.,   0.,   0.,   0.,   0.,   0.,   0.,   0.,   0.,   0.,   0.,\n",
       "       139., 253., 190.,   2.,   0.,   0.,   0.,   0.,   0.,   0.,   0.,\n",
       "         0.,   0.,   0.,   0.,   0.,   0.,   0.,   0.,   0.,   0.,   0.,\n",
       "         0.,   0.,   0.,   0.,   0.,   0.,  11., 190., 253.,  70.,   0.,\n",
       "         0.,   0.,   0.,   0.,   0.,   0.,   0.,   0.,   0.,   0.,   0.,\n",
       "         0.,   0.,   0.,   0.,   0.,   0.,   0.,   0.,   0.,   0.,   0.,\n",
       "         0.,   0.,  35., 241., 225., 160., 108.,   1.,   0.,   0.,   0.,\n",
       "         0.,   0.,   0.,   0.,   0.,   0.,   0.,   0.,   0.,   0.,   0.,\n",
       "         0.,   0.,   0.,   0.,   0.,   0.,   0.,   0.,   0.,  81., 240.,\n",
       "       253., 253., 119.,  25.,   0.,   0.,   0.,   0.,   0.,   0.,   0.,\n",
       "         0.,   0.,   0.,   0.,   0.,   0.,   0.,   0.,   0.,   0.,   0.,\n",
       "         0.,   0.,   0.,   0.,   0.,  45., 186., 253., 253., 150.,  27.,\n",
       "         0.,   0.,   0.,   0.,   0.,   0.,   0.,   0.,   0.,   0.,   0.,\n",
       "         0.,   0.,   0.,   0.,   0.,   0.,   0.,   0.,   0.,   0.,   0.,\n",
       "         0.,  16.,  93., 252., 253., 187.,   0.,   0.,   0.,   0.,   0.,\n",
       "         0.,   0.,   0.,   0.,   0.,   0.,   0.,   0.,   0.,   0.,   0.,\n",
       "         0.,   0.,   0.,   0.,   0.,   0.,   0.,   0.,   0., 249., 253.,\n",
       "       249.,  64.,   0.,   0.,   0.,   0.,   0.,   0.,   0.,   0.,   0.,\n",
       "         0.,   0.,   0.,   0.,   0.,   0.,   0.,   0.,   0.,   0.,   0.,\n",
       "         0.,  46., 130., 183., 253., 253., 207.,   2.,   0.,   0.,   0.,\n",
       "         0.,   0.,   0.,   0.,   0.,   0.,   0.,   0.,   0.,   0.,   0.,\n",
       "         0.,   0.,   0.,   0.,   0.,  39., 148., 229., 253., 253., 253.,\n",
       "       250., 182.,   0.,   0.,   0.,   0.,   0.,   0.,   0.,   0.,   0.,\n",
       "         0.,   0.,   0.,   0.,   0.,   0.,   0.,   0.,   0.,  24., 114.,\n",
       "       221., 253., 253., 253., 253., 201.,  78.,   0.,   0.,   0.,   0.,\n",
       "         0.,   0.,   0.,   0.,   0.,   0.,   0.,   0.,   0.,   0.,   0.,\n",
       "         0.,   0.,  23.,  66., 213., 253., 253., 253., 253., 198.,  81.,\n",
       "         2.,   0.,   0.,   0.,   0.,   0.,   0.,   0.,   0.,   0.,   0.,\n",
       "         0.,   0.,   0.,   0.,   0.,   0.,  18., 171., 219., 253., 253.,\n",
       "       253., 253., 195.,  80.,   9.,   0.,   0.,   0.,   0.,   0.,   0.,\n",
       "         0.,   0.,   0.,   0.,   0.,   0.,   0.,   0.,   0.,   0.,  55.,\n",
       "       172., 226., 253., 253., 253., 253., 244., 133.,  11.,   0.,   0.,\n",
       "         0.,   0.,   0.,   0.,   0.,   0.,   0.,   0.,   0.,   0.,   0.,\n",
       "         0.,   0.,   0.,   0.,   0., 136., 253., 253., 253., 212., 135.,\n",
       "       132.,  16.,   0.,   0.,   0.,   0.,   0.,   0.,   0.,   0.,   0.,\n",
       "         0.,   0.,   0.,   0.,   0.,   0.,   0.,   0.,   0.,   0.,   0.,\n",
       "         0.,   0.,   0.,   0.,   0.,   0.,   0.,   0.,   0.,   0.,   0.,\n",
       "         0.,   0.,   0.,   0.,   0.,   0.,   0.,   0.,   0.,   0.,   0.,\n",
       "         0.,   0.,   0.,   0.,   0.,   0.,   0.,   0.,   0.,   0.,   0.,\n",
       "         0.,   0.,   0.,   0.,   0.,   0.,   0.,   0.,   0.,   0.,   0.,\n",
       "         0.,   0.,   0.,   0.,   0.,   0.,   0.,   0.,   0.,   0.,   0.,\n",
       "         0.,   0.,   0.,   0.,   0.,   0.,   0.,   0.,   0.,   0.,   0.,\n",
       "         0.,   0.,   0.,   0.,   0.,   0.,   0.,   0.,   0.,   0.,   0.,\n",
       "         0.,   0.,   0.])"
      ]
     },
     "execution_count": 7,
     "metadata": {},
     "output_type": "execute_result"
    }
   ],
   "source": [
    "mnist['data'].values[0]"
   ]
  },
  {
   "cell_type": "code",
   "execution_count": 19,
   "id": "a6595a25",
   "metadata": {},
   "outputs": [],
   "source": [
    "x_datad = (mnist['data']/255).values ## 정규화 흑백 색상이므로 255로 나누면 0~1사이 값이 됨 --> numpy()\n",
    "x_data = x_datad.reshape(-1, 1, 28, 28) ## 4차원으로 변환\n",
    "y_data = pd.get_dummies(mnist['target']).values # 0~9를 one-hot encoding"
   ]
  },
  {
   "cell_type": "code",
   "execution_count": 20,
   "id": "4f51fa45",
   "metadata": {},
   "outputs": [],
   "source": [
    "x_train, x_test, y_train, y_test = train_test_split(x_data, y_data, train_size=0.3, stratify=y_data)"
   ]
  },
  {
   "cell_type": "code",
   "execution_count": 21,
   "id": "a0c17eff",
   "metadata": {},
   "outputs": [
    {
     "data": {
      "text/plain": [
       "(1, 28, 28)"
      ]
     },
     "execution_count": 21,
     "metadata": {},
     "output_type": "execute_result"
    }
   ],
   "source": [
    "x_train[0].shape"
   ]
  },
  {
   "cell_type": "code",
   "execution_count": 22,
   "id": "bcd90427",
   "metadata": {},
   "outputs": [
    {
     "data": {
      "image/png": "[encoded data removed]",
      "text/plain": [
       "<Figure size 640x480 with 1 Axes>"
      ]
     },
     "metadata": {},
     "output_type": "display_data"
    }
   ],
   "source": [
    "plt.imshow(x_train[0].reshape(28,28), cmap='gray')\n",
    "plt.show()"
   ]
  },
  {
   "cell_type": "code",
   "execution_count": 23,
   "id": "22b17210",
   "metadata": {},
   "outputs": [],
   "source": [
    "x = torch.FloatTensor(x_train)\n",
    "y = torch.FloatTensor(y_train)"
   ]
  },
  {
   "cell_type": "code",
   "execution_count": 24,
   "id": "1f29e18d",
   "metadata": {},
   "outputs": [
    {
     "name": "stdout",
     "output_type": "stream",
     "text": [
      "torch.Size([21000, 1, 28, 28])\n",
      "torch.Size([21000, 10])\n"
     ]
    }
   ],
   "source": [
    "print(x.shape)\n",
    "print(y.shape)"
   ]
  },
  {
   "cell_type": "code",
   "execution_count": 25,
   "id": "4e3a9df9",
   "metadata": {},
   "outputs": [],
   "source": [
    "class CNN(nn.Module):\n",
    "    def __init__(self):\n",
    "        super().__init__()\n",
    "        # in_channels: input 이미지의 color depth (흑백, 컬리, 등)\n",
    "        # out_channels: 필터의 수 3개\n",
    "        # kernel_size: 필터의 크기 5x5\n",
    "        # stirde: 필터 이동 크기\n",
    "        self.conv1 = nn.Conv2d(in_channels=1, out_channels=3,\n",
    "                              kernel_size=5, stride=1)\n",
    "#         self.relu1 = nn.ReLU() <= 이번에는 forward에서 함\n",
    "        # 위 out_channels과 아래 in_channels 맞춰줌\n",
    "        self.conv2 = nn.Conv2d(in_channels=3, out_channels=10,\n",
    "                              kernel_size=5, stride=1)\n",
    "#         self.relu1 = nn.ReLU() <= 이번에는 forward에서 함\n",
    "        # kernel_size: 필터의 크기\n",
    "        # stride: 필터 이동 크기 (default는 kernel_size를 따름)\n",
    "        self.max1 = nn.MaxPool2d(kernel_size=2) # 여기서는 stride=2가 됨\n",
    "\n",
    "# deep\n",
    "        self.fc1 = nn.Linear(10*10*10, 50) # 10*10*10은 2차원을 1차원으로 펴주는 효과\n",
    "        # ReLU\n",
    "        self.fc2 = nn.Linear(50, 10)\n",
    "        self.smax = nn.Softmax(dim=1)\n",
    "    \n",
    "    def forward(self, x):\n",
    "        \n",
    "        x = F.relu( self.conv1(x) )                \n",
    "        x = F.relu( self.conv2(x) )\n",
    "        x = F.relu( self.max1(x) )\n",
    "        print('max1 연산후', x.shape) # c x w x h c컬러Depth w행 h열 \n",
    "        ## fully connected ==> matrix\n",
    "        x = x.view(-1, 10*10*10)  # x.reshape(-1, 10*10*10)도 같음             \n",
    "        \n",
    "        x = F.relu( self.fc1(x) )\n",
    "        x = self.fc2(x)\n",
    "        x = self.smax(x)\n",
    "        \n",
    "        return x       \n",
    "        "
   ]
  },
  {
   "cell_type": "code",
   "execution_count": 28,
   "id": "fce6346f",
   "metadata": {},
   "outputs": [
    {
     "name": "stdout",
     "output_type": "stream",
     "text": [
      "max1 연산후 torch.Size([21000, 10, 10, 10])\n"
     ]
    },
    {
     "data": {
      "text/plain": [
       "tensor([[0.1081, 0.0877, 0.1069,  ..., 0.0912, 0.0885, 0.1118],\n",
       "        [0.1080, 0.0879, 0.1072,  ..., 0.0906, 0.0900, 0.1110],\n",
       "        [0.1080, 0.0871, 0.1066,  ..., 0.0910, 0.0896, 0.1126],\n",
       "        ...,\n",
       "        [0.1090, 0.0873, 0.1080,  ..., 0.0910, 0.0899, 0.1120],\n",
       "        [0.1080, 0.0873, 0.1081,  ..., 0.0915, 0.0894, 0.1108],\n",
       "        [0.1084, 0.0869, 0.1074,  ..., 0.0913, 0.0881, 0.1124]],\n",
       "       grad_fn=<SoftmaxBackward0>)"
      ]
     },
     "execution_count": 28,
     "metadata": {},
     "output_type": "execute_result"
    }
   ],
   "source": [
    "model = CNN()\n",
    "model(x)"
   ]
  },
  {
   "cell_type": "code",
   "execution_count": 29,
   "id": "71de3af3",
   "metadata": {
    "scrolled": true
   },
   "outputs": [
    {
     "name": "stdout",
     "output_type": "stream",
     "text": [
      "max1 연산후 torch.Size([21000, 10, 10, 10])\n",
      "=====================\n",
      "정확도 0.09823809523809524\n",
      "max1 연산후 torch.Size([21000, 10, 10, 10])\n",
      "=====================\n",
      "정확도 0.3637142857142857\n",
      "max1 연산후 torch.Size([21000, 10, 10, 10])\n",
      "=====================\n",
      "정확도 0.30033333333333334\n",
      "max1 연산후 torch.Size([21000, 10, 10, 10])\n",
      "=====================\n",
      "정확도 0.3119047619047619\n",
      "max1 연산후 torch.Size([21000, 10, 10, 10])\n",
      "=====================\n",
      "정확도 0.4129047619047619\n",
      "max1 연산후 torch.Size([21000, 10, 10, 10])\n",
      "=====================\n",
      "정확도 0.5101904761904762\n",
      "max1 연산후 torch.Size([21000, 10, 10, 10])\n",
      "=====================\n",
      "정확도 0.49338095238095236\n",
      "max1 연산후 torch.Size([21000, 10, 10, 10])\n",
      "=====================\n",
      "정확도 0.5151428571428571\n",
      "max1 연산후 torch.Size([21000, 10, 10, 10])\n",
      "=====================\n",
      "정확도 0.5414285714285715\n",
      "max1 연산후 torch.Size([21000, 10, 10, 10])\n",
      "=====================\n",
      "정확도 0.5805238095238096\n",
      "max1 연산후 torch.Size([21000, 10, 10, 10])\n",
      "=====================\n",
      "정확도 0.537047619047619\n",
      "max1 연산후 torch.Size([21000, 10, 10, 10])\n",
      "=====================\n",
      "정확도 0.5779047619047619\n",
      "max1 연산후 torch.Size([21000, 10, 10, 10])\n",
      "=====================\n",
      "정확도 0.6045238095238096\n",
      "max1 연산후 torch.Size([21000, 10, 10, 10])\n",
      "=====================\n",
      "정확도 0.6025238095238096\n",
      "max1 연산후 torch.Size([21000, 10, 10, 10])\n",
      "=====================\n",
      "정확도 0.6206190476190476\n",
      "max1 연산후 torch.Size([21000, 10, 10, 10])\n",
      "=====================\n",
      "정확도 0.6163333333333333\n",
      "max1 연산후 torch.Size([21000, 10, 10, 10])\n",
      "=====================\n",
      "정확도 0.619904761904762\n",
      "max1 연산후 torch.Size([21000, 10, 10, 10])\n",
      "=====================\n",
      "정확도 0.6522857142857142\n",
      "max1 연산후 torch.Size([21000, 10, 10, 10])\n",
      "=====================\n",
      "정확도 0.6785238095238095\n",
      "max1 연산후 torch.Size([21000, 10, 10, 10])\n",
      "=====================\n",
      "정확도 0.6580952380952381\n",
      "max1 연산후 torch.Size([21000, 10, 10, 10])\n",
      "=====================\n",
      "정확도 0.7391904761904762\n",
      "max1 연산후 torch.Size([21000, 10, 10, 10])\n",
      "=====================\n",
      "정확도 0.7004285714285714\n",
      "max1 연산후 torch.Size([21000, 10, 10, 10])\n",
      "=====================\n",
      "정확도 0.7193333333333334\n",
      "max1 연산후 torch.Size([21000, 10, 10, 10])\n",
      "=====================\n",
      "정확도 0.7206190476190476\n",
      "max1 연산후 torch.Size([21000, 10, 10, 10])\n",
      "=====================\n",
      "정확도 0.7274285714285714\n",
      "max1 연산후 torch.Size([21000, 10, 10, 10])\n",
      "=====================\n",
      "정확도 0.7303809523809524\n",
      "max1 연산후 torch.Size([21000, 10, 10, 10])\n",
      "=====================\n",
      "정확도 0.7311904761904762\n",
      "max1 연산후 torch.Size([21000, 10, 10, 10])\n",
      "=====================\n",
      "정확도 0.730904761904762\n",
      "max1 연산후 torch.Size([21000, 10, 10, 10])\n",
      "=====================\n",
      "정확도 0.7362857142857143\n",
      "max1 연산후 torch.Size([21000, 10, 10, 10])\n",
      "=====================\n",
      "정확도 0.7408095238095238\n",
      "max1 연산후 torch.Size([21000, 10, 10, 10])\n",
      "=====================\n",
      "정확도 0.7424285714285714\n",
      "max1 연산후 torch.Size([21000, 10, 10, 10])\n",
      "=====================\n",
      "정확도 0.747\n",
      "max1 연산후 torch.Size([21000, 10, 10, 10])\n",
      "=====================\n",
      "정확도 0.7493809523809524\n",
      "max1 연산후 torch.Size([21000, 10, 10, 10])\n",
      "=====================\n",
      "정확도 0.7494761904761905\n",
      "max1 연산후 torch.Size([21000, 10, 10, 10])\n",
      "=====================\n",
      "정확도 0.7525714285714286\n",
      "max1 연산후 torch.Size([21000, 10, 10, 10])\n",
      "=====================\n",
      "정확도 0.754\n",
      "max1 연산후 torch.Size([21000, 10, 10, 10])\n",
      "=====================\n",
      "정확도 0.7549047619047619\n",
      "max1 연산후 torch.Size([21000, 10, 10, 10])\n",
      "=====================\n",
      "정확도 0.7564285714285715\n",
      "max1 연산후 torch.Size([21000, 10, 10, 10])\n",
      "=====================\n",
      "정확도 0.7589047619047619\n",
      "max1 연산후 torch.Size([21000, 10, 10, 10])\n",
      "=====================\n",
      "정확도 0.7604761904761905\n",
      "max1 연산후 torch.Size([21000, 10, 10, 10])\n",
      "=====================\n",
      "정확도 0.7619047619047619\n",
      "max1 연산후 torch.Size([21000, 10, 10, 10])\n",
      "=====================\n",
      "정확도 0.763\n",
      "max1 연산후 torch.Size([21000, 10, 10, 10])\n",
      "=====================\n",
      "정확도 0.765095238095238\n",
      "max1 연산후 torch.Size([21000, 10, 10, 10])\n",
      "=====================\n",
      "정확도 0.7668571428571429\n",
      "max1 연산후 torch.Size([21000, 10, 10, 10])\n",
      "=====================\n",
      "정확도 0.7679523809523809\n",
      "max1 연산후 torch.Size([21000, 10, 10, 10])\n",
      "=====================\n",
      "정확도 0.7691428571428571\n",
      "max1 연산후 torch.Size([21000, 10, 10, 10])\n",
      "=====================\n",
      "정확도 0.7707142857142857\n",
      "max1 연산후 torch.Size([21000, 10, 10, 10])\n",
      "=====================\n",
      "정확도 0.7713333333333333\n",
      "max1 연산후 torch.Size([21000, 10, 10, 10])\n",
      "=====================\n",
      "정확도 0.7722857142857142\n",
      "max1 연산후 torch.Size([21000, 10, 10, 10])\n",
      "=====================\n",
      "정확도 0.7734761904761904\n",
      "max1 연산후 torch.Size([21000, 10, 10, 10])\n",
      "=====================\n",
      "정확도 0.7746666666666666\n",
      "max1 연산후 torch.Size([21000, 10, 10, 10])\n",
      "=====================\n",
      "정확도 0.7753333333333333\n",
      "max1 연산후 torch.Size([21000, 10, 10, 10])\n",
      "=====================\n",
      "정확도 0.7757619047619048\n",
      "max1 연산후 torch.Size([21000, 10, 10, 10])\n",
      "=====================\n",
      "정확도 0.7766666666666666\n",
      "max1 연산후 torch.Size([21000, 10, 10, 10])\n",
      "=====================\n",
      "정확도 0.7779047619047619\n",
      "max1 연산후 torch.Size([21000, 10, 10, 10])\n",
      "=====================\n",
      "정확도 0.7782857142857142\n",
      "max1 연산후 torch.Size([21000, 10, 10, 10])\n",
      "=====================\n",
      "정확도 0.7790952380952381\n",
      "max1 연산후 torch.Size([21000, 10, 10, 10])\n",
      "=====================\n",
      "정확도 0.7795714285714286\n",
      "max1 연산후 torch.Size([21000, 10, 10, 10])\n",
      "=====================\n",
      "정확도 0.7801428571428571\n",
      "max1 연산후 torch.Size([21000, 10, 10, 10])\n",
      "=====================\n",
      "정확도 0.7803809523809524\n",
      "max1 연산후 torch.Size([21000, 10, 10, 10])\n",
      "=====================\n",
      "정확도 0.7810952380952381\n",
      "max1 연산후 torch.Size([21000, 10, 10, 10])\n",
      "=====================\n",
      "정확도 0.782\n",
      "max1 연산후 torch.Size([21000, 10, 10, 10])\n",
      "=====================\n",
      "정확도 0.7822857142857143\n",
      "max1 연산후 torch.Size([21000, 10, 10, 10])\n",
      "=====================\n",
      "정확도 0.7828571428571428\n",
      "max1 연산후 torch.Size([21000, 10, 10, 10])\n",
      "=====================\n",
      "정확도 0.7832380952380953\n",
      "max1 연산후 torch.Size([21000, 10, 10, 10])\n",
      "=====================\n",
      "정확도 0.7834761904761904\n",
      "max1 연산후 torch.Size([21000, 10, 10, 10])\n",
      "=====================\n",
      "정확도 0.7837619047619048\n",
      "max1 연산후 torch.Size([21000, 10, 10, 10])\n",
      "=====================\n",
      "정확도 0.7845238095238095\n",
      "max1 연산후 torch.Size([21000, 10, 10, 10])\n",
      "=====================\n",
      "정확도 0.7851428571428571\n",
      "max1 연산후 torch.Size([21000, 10, 10, 10])\n",
      "=====================\n",
      "정확도 0.7854761904761904\n",
      "max1 연산후 torch.Size([21000, 10, 10, 10])\n",
      "=====================\n",
      "정확도 0.7861904761904762\n",
      "max1 연산후 torch.Size([21000, 10, 10, 10])\n",
      "=====================\n",
      "정확도 0.7864285714285715\n",
      "max1 연산후 torch.Size([21000, 10, 10, 10])\n",
      "=====================\n",
      "정확도 0.7865714285714286\n",
      "max1 연산후 torch.Size([21000, 10, 10, 10])\n",
      "=====================\n",
      "정확도 0.787047619047619\n",
      "max1 연산후 torch.Size([21000, 10, 10, 10])\n",
      "=====================\n",
      "정확도 0.7875714285714286\n",
      "max1 연산후 torch.Size([21000, 10, 10, 10])\n",
      "=====================\n",
      "정확도 0.7877619047619048\n",
      "max1 연산후 torch.Size([21000, 10, 10, 10])\n",
      "=====================\n",
      "정확도 0.7879047619047619\n",
      "max1 연산후 torch.Size([21000, 10, 10, 10])\n",
      "=====================\n",
      "정확도 0.7885238095238095\n",
      "max1 연산후 torch.Size([21000, 10, 10, 10])\n",
      "=====================\n",
      "정확도 0.7887619047619048\n",
      "max1 연산후 torch.Size([21000, 10, 10, 10])\n",
      "=====================\n",
      "정확도 0.7891904761904762\n",
      "max1 연산후 torch.Size([21000, 10, 10, 10])\n",
      "=====================\n",
      "정확도 0.7893809523809524\n",
      "max1 연산후 torch.Size([21000, 10, 10, 10])\n",
      "=====================\n",
      "정확도 0.7894761904761904\n",
      "max1 연산후 torch.Size([21000, 10, 10, 10])\n",
      "=====================\n",
      "정확도 0.790047619047619\n",
      "max1 연산후 torch.Size([21000, 10, 10, 10])\n",
      "=====================\n",
      "정확도 0.7911428571428571\n",
      "max1 연산후 torch.Size([21000, 10, 10, 10])\n",
      "=====================\n",
      "정확도 0.7978571428571428\n",
      "max1 연산후 torch.Size([21000, 10, 10, 10])\n",
      "=====================\n",
      "정확도 0.8258095238095238\n",
      "max1 연산후 torch.Size([21000, 10, 10, 10])\n",
      "=====================\n",
      "정확도 0.8555714285714285\n",
      "max1 연산후 torch.Size([21000, 10, 10, 10])\n",
      "=====================\n",
      "정확도 0.8522380952380952\n",
      "max1 연산후 torch.Size([21000, 10, 10, 10])\n",
      "=====================\n",
      "정확도 0.8500952380952381\n",
      "max1 연산후 torch.Size([21000, 10, 10, 10])\n",
      "=====================\n",
      "정확도 0.8615714285714285\n",
      "max1 연산후 torch.Size([21000, 10, 10, 10])\n",
      "=====================\n",
      "정확도 0.8705238095238095\n",
      "max1 연산후 torch.Size([21000, 10, 10, 10])\n",
      "=====================\n",
      "정확도 0.8673333333333333\n",
      "max1 연산후 torch.Size([21000, 10, 10, 10])\n",
      "=====================\n",
      "정확도 0.8701904761904762\n",
      "max1 연산후 torch.Size([21000, 10, 10, 10])\n",
      "=====================\n",
      "정확도 0.8714761904761905\n",
      "max1 연산후 torch.Size([21000, 10, 10, 10])\n",
      "=====================\n",
      "정확도 0.8731904761904762\n",
      "max1 연산후 torch.Size([21000, 10, 10, 10])\n",
      "=====================\n",
      "정확도 0.8761904761904762\n"
     ]
    },
    {
     "name": "stdout",
     "output_type": "stream",
     "text": [
      "max1 연산후 torch.Size([21000, 10, 10, 10])\n",
      "=====================\n",
      "정확도 0.8785238095238095\n",
      "max1 연산후 torch.Size([21000, 10, 10, 10])\n",
      "=====================\n",
      "정확도 0.8768095238095238\n",
      "max1 연산후 torch.Size([21000, 10, 10, 10])\n",
      "=====================\n",
      "정확도 0.8776190476190476\n",
      "max1 연산후 torch.Size([21000, 10, 10, 10])\n",
      "=====================\n",
      "정확도 0.8791428571428571\n"
     ]
    }
   ],
   "source": [
    "model = CNN()\n",
    "loss_fn = nn.CrossEntropyLoss()\n",
    "optimizer = Adam( model.parameters(), lr=0.01)\n",
    "\n",
    "hist = []\n",
    "for step in range(100):\n",
    "    optimizer.zero_grad()\n",
    "    hx = model(x)\n",
    "    cost = loss_fn(hx, y)\n",
    "    cost.backward()\n",
    "    optimizer.step()\n",
    "    print('=====================')\n",
    "    rdata = y.argmax(dim=1).numpy()\n",
    "    pred = hx.argmax(dim=1).numpy()\n",
    "    print('정확도',accuracy_score(rdata, pred))\n",
    "    hist.append(cost.item())"
   ]
  },
  {
   "cell_type": "code",
   "execution_count": 30,
   "id": "8557af76",
   "metadata": {},
   "outputs": [
    {
     "data": {
      "image/png": "[encoded data removed]",
      "text/plain": [
       "<Figure size 640x480 with 1 Axes>"
      ]
     },
     "metadata": {},
     "output_type": "display_data"
    }
   ],
   "source": [
    "plt.plot(hist)\n",
    "plt.show()"
   ]
  }
 ],
 "metadata": {
  "kernelspec": {
   "display_name": "Python 3 (ipykernel)",
   "language": "python",
   "name": "python3"
  },
  "language_info": {
   "codemirror_mode": {
    "name": "ipython",
    "version": 3
   },
   "file_extension": ".py",
   "mimetype": "text/x-python",
   "name": "python",
   "nbconvert_exporter": "python",
   "pygments_lexer": "ipython3",
   "version": "3.10.4"
  }
 },
 "nbformat": 4,
 "nbformat_minor": 5
}
